{
 "cells": [
  {
   "cell_type": "markdown",
   "metadata": {},
   "source": [
    "## Question 1"
   ]
  },
  {
   "cell_type": "markdown",
   "metadata": {},
   "source": [
    "In Object-Oriented Programming (OOP), a class is a blueprint for creating objects. It defines a set of attributes and behaviors that objects of that class will have. An object, on the other hand, is an instance of a class that has its own unique set of attribute values and can perform the behaviors defined by the class.\n",
    "\n",
    "For example, let's say we have a class called Car. This class might have attributes such as make, model, year, and color. It might also have behaviors such as start_engine(), accelerate(), and stop().\n",
    "\n",
    "To create an object of this class, we would use the Car blueprint to instantiate a specific Car object with its own set of attribute values. For example, we might create a Car object with the following attribute values:"
   ]
  },
  {
   "cell_type": "markdown",
   "metadata": {},
   "source": [
    "make = 'Honda'\n",
    "model = 'Civic'\n",
    "year = 2021\n",
    "color = 'blue'"
   ]
  },
  {
   "cell_type": "markdown",
   "metadata": {},
   "source": [
    "We could then perform behaviors on this object, such as calling the start_engine() method to start the car's engine. This would be done using dot notation, like this:"
   ]
  },
  {
   "cell_type": "markdown",
   "metadata": {},
   "source": [
    "my_car = Car()\n",
    "my_car.start_engine()\n",
    "In this example, my_car is an object of the Car class, and calling start_engine() on it invokes the behavior defined in the Car class. This is the basic idea behind OOP: defining classes with attributes and behaviors, and creating objects of those classes to manipulate and interact with."
   ]
  },
  {
   "cell_type": "markdown",
   "metadata": {},
   "source": [
    "## Question 2"
   ]
  },
  {
   "cell_type": "markdown",
   "metadata": {},
   "source": [
    "The four pillars of Object-Oriented Programming (OOP) are:\n",
    "\n",
    "1)Encapsulation: Encapsulation refers to the practice of bundling data and the methods that operate on that data within a single unit, i.e., a class. This helps to hide the implementation details of the class from the outside world, and provides a way to control access to the data and methods.\n",
    "\n",
    "2)Abstraction: Abstraction is the process of extracting the essential features of an object and ignoring the non-essential ones. This allows us to create abstract data types that can be used in a wide variety of contexts without worrying about the implementation details.\n",
    "\n",
    "3)Inheritance: Inheritance is a mechanism that allows a new class to be based on an existing class, inheriting its attributes and behaviors. This allows us to reuse code, create new classes that specialize or modify the behavior of existing classes, and create class hierarchies that organize related classes.\n",
    "\n",
    "4)Polymorphism: Polymorphism is the ability of objects of different classes to be used interchangeably, as long as they share a common interface or base class. This allows us to write more generic and reusable code, and to design systems that can adapt to changing requirements or new classes without having to modify the existing code."
   ]
  },
  {
   "cell_type": "markdown",
   "metadata": {},
   "source": [
    "## Question 3"
   ]
  },
  {
   "cell_type": "markdown",
   "metadata": {},
   "source": [
    "The __init__() function is a special method in Python that is used to initialize the attributes of an object when it is created. It is called automatically when an object is created, and allows us to set default values for the object's attributes, or to accept user-provided values to initialize the object's attributes."
   ]
  },
  {
   "cell_type": "markdown",
   "metadata": {},
   "source": [
    "For example, let's say we have a class called Person that represents a person with a name and an age. We might define the Person class like this:"
   ]
  },
  {
   "cell_type": "code",
   "execution_count": 1,
   "metadata": {},
   "outputs": [],
   "source": [
    "class Person:\n",
    "    def __init__(self, name, age):\n",
    "        self.name = name\n",
    "        self.age = age"
   ]
  },
  {
   "cell_type": "markdown",
   "metadata": {},
   "source": [
    "In this example, the __init__() method takes two parameters, name and age. These parameters are used to initialize the object's name and age attributes, respectively. The self parameter refers to the object being created, and is used to access its attributes.\n",
    "\n",
    "We can create a new Person object and set its attributes like this:"
   ]
  },
  {
   "cell_type": "code",
   "execution_count": 2,
   "metadata": {},
   "outputs": [],
   "source": [
    "person1 = Person(\"Alice\", 25)"
   ]
  },
  {
   "cell_type": "markdown",
   "metadata": {},
   "source": [
    "This creates a new Person object with the name \"Alice\" and the age 25. The __init__() method is called automatically when the person1 object is created, and sets its name and age attributes to the values provided.\n",
    "\n",
    "Using the __init__() method in this way allows us to ensure that new objects are always initialized with the correct attributes, and makes it easier to create new objects of the same class with different attribute values."
   ]
  },
  {
   "cell_type": "markdown",
   "metadata": {},
   "source": [
    "## Question 4"
   ]
  },
  {
   "cell_type": "markdown",
   "metadata": {},
   "source": [
    "In Object-Oriented Programming (OOP), self is used as a reference to the current object or instance of a class. It is used as the first parameter in most instance methods of a class and is used to refer to the object's own attributes and methods.\n",
    "\n",
    "When an object is created from a class, it contains its own set of attributes and methods that are specific to that object. These attributes and methods can be accessed and modified using the self parameter within instance methods. By using self, the method knows which specific object's attribute or method is being referred to and can make changes to it accordingly.\n",
    "\n",
    "For example, let's say we have a class called Person with an attribute called name and a method called greet() that prints a greeting message using the person's name. The greet() method would look like this:"
   ]
  },
  {
   "cell_type": "code",
   "execution_count": 3,
   "metadata": {},
   "outputs": [],
   "source": [
    "class Person:\n",
    "    def __init__(self, name):\n",
    "        self.name = name\n",
    "\n",
    "    def greet(self):\n",
    "        print(\"Hello, my name is\", self.name)"
   ]
  },
  {
   "cell_type": "markdown",
   "metadata": {},
   "source": [
    "In this example, self.name refers to the name attribute of the current object, which is initialized in the __init__() method. When the greet() method is called on a Person object, it prints a greeting message that includes the person's name.\n",
    "\n",
    "Using self in this way allows us to define class methods that can work with the specific attributes of any object of that class. It ensures that each object has its own set of attributes and methods, and helps to prevent naming conflicts between different objects of the same class."
   ]
  },
  {
   "cell_type": "markdown",
   "metadata": {},
   "source": [
    "## Question 5"
   ]
  },
  {
   "cell_type": "markdown",
   "metadata": {},
   "source": [
    "Inheritance is a mechanism in Object-Oriented Programming (OOP) that allows a new class to be based on an existing class, inheriting its attributes and behaviors. The existing class is called the superclass or parent class, and the new class is called the subclass or child class.\n",
    "\n",
    "There are several types of inheritance:"
   ]
  },
  {
   "cell_type": "markdown",
   "metadata": {},
   "source": [
    "1) Single inheritance: A subclass inherits from a single superclass. This is the most common type of inheritance. For example:"
   ]
  },
  {
   "cell_type": "code",
   "execution_count": 5,
   "metadata": {},
   "outputs": [],
   "source": [
    "class Animal:\n",
    "    def eat(self):\n",
    "        print(\"I am eating.\")\n",
    "\n",
    "class Dog(Animal):\n",
    "    def bark(self):\n",
    "        print(\"Woof!\")"
   ]
  },
  {
   "cell_type": "markdown",
   "metadata": {},
   "source": [
    "In this example, the Dog class inherits from the Animal class. The Dog class has a new method called bark(), but it also has access to the eat() method of the Animal class."
   ]
  },
  {
   "cell_type": "markdown",
   "metadata": {},
   "source": [
    "2) Multiple inheritance: A subclass inherits from multiple superclasses. For example:"
   ]
  },
  {
   "cell_type": "code",
   "execution_count": 6,
   "metadata": {},
   "outputs": [],
   "source": [
    "class Flyer:\n",
    "    def fly(self):\n",
    "        print(\"I am flying.\")\n",
    "\n",
    "class Swimmer:\n",
    "    def swim(self):\n",
    "        print(\"I am swimming.\")\n",
    "\n",
    "class Duck(Flyer, Swimmer):\n",
    "    def quack(self):\n",
    "        print(\"Quack!\")"
   ]
  },
  {
   "cell_type": "markdown",
   "metadata": {},
   "source": [
    "In this example, the Duck class inherits from both the Flyer and Swimmer classes. The Duck class has access to both the fly() and swim() methods, as well as its own quack() method."
   ]
  },
  {
   "cell_type": "markdown",
   "metadata": {},
   "source": [
    "3) Multilevel inheritance: A subclass inherits from a superclass, which itself inherits from another superclass. For example:"
   ]
  },
  {
   "cell_type": "code",
   "execution_count": 7,
   "metadata": {},
   "outputs": [],
   "source": [
    "class Animal:\n",
    "    def eat(self):\n",
    "        print(\"I am eating.\")\n",
    "\n",
    "class Mammal(Animal):\n",
    "    def run(self):\n",
    "        print(\"I am running.\")\n",
    "\n",
    "class Dog(Mammal):\n",
    "    def bark(self):\n",
    "        print(\"Woof!\")"
   ]
  },
  {
   "cell_type": "markdown",
   "metadata": {},
   "source": [
    "In this example, the Dog class inherits from the Mammal class, which itself inherits from the Animal class. The Dog class has access to all of the methods of both the Mammal and Animal classes, as well as its own bark() method."
   ]
  },
  {
   "cell_type": "markdown",
   "metadata": {},
   "source": [
    "4) Hierarchical inheritance: Multiple subclasses inherit from a single superclass. For example:"
   ]
  },
  {
   "cell_type": "code",
   "execution_count": 8,
   "metadata": {},
   "outputs": [],
   "source": [
    "class Vehicle:\n",
    "    def drive(self):\n",
    "        print(\"I am driving.\")\n",
    "\n",
    "class Car(Vehicle):\n",
    "    def honk(self):\n",
    "        print(\"Honk!\")\n",
    "\n",
    "class Motorcycle(Vehicle):\n",
    "    def rev(self):\n",
    "        print(\"Vroom!\")"
   ]
  },
  {
   "cell_type": "markdown",
   "metadata": {},
   "source": [
    "In this example, both the Car and Motorcycle classes inherit from the Vehicle class. They each have their own unique methods (honk() and rev()), but they also have access to the drive() method of the Vehicle class."
   ]
  }
 ],
 "metadata": {
  "kernelspec": {
   "display_name": "Python 3",
   "language": "python",
   "name": "python3"
  },
  "language_info": {
   "codemirror_mode": {
    "name": "ipython",
    "version": 3
   },
   "file_extension": ".py",
   "mimetype": "text/x-python",
   "name": "python",
   "nbconvert_exporter": "python",
   "pygments_lexer": "ipython3",
   "version": "3.8.5"
  }
 },
 "nbformat": 4,
 "nbformat_minor": 4
}
