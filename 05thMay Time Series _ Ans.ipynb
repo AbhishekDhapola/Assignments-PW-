{
 "cells": [
  {
   "cell_type": "markdown",
   "metadata": {},
   "source": [
    "# Q1. What is meant by time-dependent seasonal components?"
   ]
  },
  {
   "cell_type": "markdown",
   "metadata": {},
   "source": [
    "Time-dependent seasonal components refer to patterns or fluctuations in a time series data that occur regularly at specific intervals. These patterns can be due to various factors such as the time of year, day of the week, or any other repeating time unit. Seasonal components are time-dependent because they change over time in a systematic manner."
   ]
  },
  {
   "cell_type": "markdown",
   "metadata": {},
   "source": [
    "# Q2. How can time-dependent seasonal components be identified in time series data?"
   ]
  },
  {
   "cell_type": "markdown",
   "metadata": {},
   "source": [
    "Time-dependent seasonal components can be identified in time series data through various methods, such as:\n",
    "\n",
    "Visual Inspection: Plotting the data and observing repeating patterns at specific time intervals.\n",
    "Seasonal Subseries Plot: Creating subplots of the data for each season to visually identify patterns.\n",
    "Autocorrelation Function (ACF) and Partial Autocorrelation Function (PACF): Analyzing the ACF and PACF plots can help identify the presence of seasonal patterns.\n",
    "Decomposition: Decomposing the time series into its components (trend, seasonality, and residuals) using methods like additive or multiplicative decomposition.\n",
    "Statistical Tests: Performing statistical tests like the Augmented Dickey-Fuller test to check for stationarity, which can indicate the presence of seasonality."
   ]
  },
  {
   "cell_type": "markdown",
   "metadata": {},
   "source": [
    "# Q3. What are the factors that can influence time-dependent seasonal components?"
   ]
  },
  {
   "cell_type": "markdown",
   "metadata": {},
   "source": [
    "Factors that can influence time-dependent seasonal components include:\n",
    "\n",
    "Natural Phenomena: Weather changes, daylight hours, agricultural cycles, etc.\n",
    "Cultural and Social Events: Holidays, festivals, vacation seasons, etc.\n",
    "Business Practices: Sales promotions, inventory cycles, end-of-month/quarter/year reporting, etc.\n",
    "Economic Factors: Economic cycles, interest rate changes, market trends, etc."
   ]
  },
  {
   "cell_type": "markdown",
   "metadata": {},
   "source": [
    "# Q4. How are autoregression models used in time series analysis and forecasting?"
   ]
  },
  {
   "cell_type": "markdown",
   "metadata": {},
   "source": [
    " Autoregression (AR) models are used in time series analysis to predict future values based on past values in the same time series. An AR model of order \"p\" uses the past \"p\" values to predict the next value. The general formula for an AR(p) model is:\n",
    "\n",
    "y(t) = c + φ1y(t-1) + φ2y(t-2) + ... + φp*y(t-p) + ε(t)\n",
    "\n",
    "Here, y(t) is the current value, φ1 to φp are the autoregressive coefficients, and ε(t) is the white noise error term."
   ]
  },
  {
   "cell_type": "markdown",
   "metadata": {},
   "source": [
    "# Q5. How do you use autoregression models to make predictions for future time points?"
   ]
  },
  {
   "cell_type": "markdown",
   "metadata": {},
   "source": [
    "To use an autoregression model to make predictions for future time points:\n",
    "\n",
    "Choose an appropriate order \"p\" based on methods like PACF analysis.\n",
    "Fit the model to the historical data to estimate the autoregressive coefficients.\n",
    "Use the estimated coefficients and the past \"p\" values to predict the next value in the series."
   ]
  },
  {
   "cell_type": "markdown",
   "metadata": {},
   "source": [
    "# Q6. What is a moving average (MA) model and how does it differ from other time series models?"
   ]
  },
  {
   "cell_type": "markdown",
   "metadata": {},
   "source": [
    "A Moving Average (MA) model is another type of time series model that focuses on modeling the relationship between the current value and past forecast errors (residuals). An MA model of order \"q\" uses \"q\" past forecast errors to predict the current value. The general formula for an MA(q) model is:\n",
    "\n",
    "y(t) = c + θ1ε(t-1) + θ2ε(t-2) + ... + θq*ε(t-q) + ε(t)\n",
    "\n",
    "Here, ε(t-1) to ε(t-q) are the past forecast errors.\n",
    "\n",
    "Unlike AR models that depend on past values of the series itself, MA models depend on past forecast errors."
   ]
  },
  {
   "cell_type": "markdown",
   "metadata": {},
   "source": [
    "# Q7. What is a mixed ARMA model and how does it differ from an AR or MA model?"
   ]
  },
  {
   "cell_type": "markdown",
   "metadata": {},
   "source": [
    "A mixed Autoregressive Moving Average (ARMA) model combines both autoregressive and moving average components. An ARMA(p,q) model includes \"p\" autoregressive terms and \"q\" moving average terms. The general formula is a combination of the AR and MA equations:\n",
    "\n",
    "y(t) = c + φ1y(t-1) + φ2y(t-2) + ... + φpy(t-p) + θ1ε(t-1) + θ2ε(t-2) + ... + θqε(t-q) + ε(t)\n",
    "\n",
    "Mixed ARMA models are more flexible and can capture both short-term dependencies in the past values and relationships with past forecast errors."
   ]
  }
 ],
 "metadata": {
  "kernelspec": {
   "display_name": "Python 3",
   "language": "python",
   "name": "python3"
  },
  "language_info": {
   "codemirror_mode": {
    "name": "ipython",
    "version": 3
   },
   "file_extension": ".py",
   "mimetype": "text/x-python",
   "name": "python",
   "nbconvert_exporter": "python",
   "pygments_lexer": "ipython3",
   "version": "3.8.5"
  }
 },
 "nbformat": 4,
 "nbformat_minor": 4
}
