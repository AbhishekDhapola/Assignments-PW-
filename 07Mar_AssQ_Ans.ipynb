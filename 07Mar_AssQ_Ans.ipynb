{
 "cells": [
  {
   "cell_type": "markdown",
   "metadata": {},
   "source": [
    "# Q1. What are the three measures of central tendency?"
   ]
  },
  {
   "cell_type": "markdown",
   "metadata": {},
   "source": [
    " The three measures of central tendency are the mean, median, and mode."
   ]
  },
  {
   "cell_type": "markdown",
   "metadata": {},
   "source": [
    "# Q2. What is the difference between the mean, median, and mode? How are they used to measure the central tendency of a dataset?"
   ]
  },
  {
   "cell_type": "markdown",
   "metadata": {},
   "source": [
    " The mean is the average of all the values in a dataset. It's calculated by summing up all the values and then dividing by the number of values. The median is the middle value in a dataset when it's arranged in order. If there's an even number of values, the median is the average of the two middle values. The mode is the value that appears most frequently in the dataset.\n",
    " \n",
    " These measures are used to describe the center or typical value of a dataset. The mean is sensitive to outliers and can be affected by extreme values, while the median is more robust to outliers. The mode can be useful when identifying the most common value in a dataset."
   ]
  },
  {
   "cell_type": "markdown",
   "metadata": {},
   "source": [
    "# Q3. Measure the three measures of central tendency for the given height data:\n",
    "[178,177,176,177,178.2,178,175,179,180,175,178.9,176.2,177,172.5,178,176.5]"
   ]
  },
  {
   "cell_type": "markdown",
   "metadata": {},
   "source": [
    "Mean: (sum of all values) / (number of values) = (2827.3) / (16) ≈ 176.706\n",
    "Median: After sorting the data, the middle value is 177.\n",
    "Mode: The mode is 177 because it appears most frequently."
   ]
  },
  {
   "cell_type": "markdown",
   "metadata": {},
   "source": [
    "# Q4. Find the standard deviation for the given data:\n",
    "[178,177,176,177,178.2,178,175,179,180,175,178.9,176.2,177,172.5,178,176.5]"
   ]
  },
  {
   "cell_type": "code",
   "execution_count": 2,
   "metadata": {},
   "outputs": [
    {
     "data": {
      "text/plain": [
       "1.7885814036549"
      ]
     },
     "execution_count": 2,
     "metadata": {},
     "output_type": "execute_result"
    }
   ],
   "source": [
    "\t1.7885814036549"
   ]
  },
  {
   "cell_type": "markdown",
   "metadata": {},
   "source": [
    "# Q5. How are measures of dispersion such as range, variance, and standard deviation used to describe the spread of a dataset? Provide an example."
   ]
  },
  {
   "cell_type": "markdown",
   "metadata": {},
   "source": [
    "Range: The difference between the maximum and minimum values in a dataset. It gives a simple idea of the spread but is sensitive to outliers.\n",
    "Variance: It measures how much the values in a dataset deviate from the mean. A higher variance indicates greater spread.\n",
    "Standard Deviation: It's the square root of the variance and is often preferred as it is in the same units as the data."
   ]
  },
  {
   "cell_type": "markdown",
   "metadata": {},
   "source": [
    "# Q6. What is a Venn diagram?"
   ]
  },
  {
   "cell_type": "markdown",
   "metadata": {},
   "source": [
    " A Venn diagram is a graphical representation used to show the relationships between different sets. It consists of overlapping circles or other shapes, where each circle represents a set and the overlapping regions represent the intersections between the sets. Venn diagrams are used to visualize the common and distinct elements among sets."
   ]
  },
  {
   "cell_type": "markdown",
   "metadata": {},
   "source": [
    "# Q7. For the two given sets A = (2,3,4,5,6,7) & B = (0,2,6,8,10). Find:\n",
    "(i) A B\n",
    "(ii) A ⋃ B"
   ]
  },
  {
   "cell_type": "markdown",
   "metadata": {},
   "source": [
    "(i) A ∩ B (the intersection) is {2, 6}.\n",
    "(ii) A ∪ B (the union) is {0, 2, 3, 4, 5, 6, 7, 8, 10}."
   ]
  },
  {
   "cell_type": "markdown",
   "metadata": {},
   "source": [
    "# Q8. What do you understand about skewness in data?"
   ]
  },
  {
   "cell_type": "markdown",
   "metadata": {},
   "source": [
    "Skewness in data refers to the asymmetry in the distribution of data points. If the distribution is skewed to the right, it means that the tail on the right side is longer than the left side. Conversely, if it's skewed to the left, the tail on the left side is longer. Skewness can affect the interpretation of the central tendency and spread of the data."
   ]
  },
  {
   "cell_type": "markdown",
   "metadata": {},
   "source": [
    "# Q9. If a data is right skewed then what will be the position of median with respect to mean?"
   ]
  },
  {
   "cell_type": "markdown",
   "metadata": {},
   "source": [
    "If a data distribution is right-skewed (positively skewed), the tail on the right side is longer. In this case, the mean will be greater than the median. The median is less affected by extreme values, so it's pulled towards the left by the tail, causing the median to be smaller than the mean."
   ]
  },
  {
   "cell_type": "markdown",
   "metadata": {},
   "source": [
    "# Q10. Explain the difference between covariance and correlation. How are these measures used in statistical analysis?"
   ]
  },
  {
   "cell_type": "markdown",
   "metadata": {},
   "source": [
    " Covariance measures the relationship between two variables, indicating whether they tend to increase or decrease together. Positive covariance indicates that as one variable increases, the other tends to increase, and vice versa. Negative covariance indicates an inverse relationship.\n",
    "\n",
    "Correlation, on the other hand, is a standardized measure of the strength and direction of the linear relationship between two variables. It ranges from -1 to 1. A correlation of 1 implies a perfect positive linear relationship, -1 implies a perfect negative linear relationship, and 0 implies no linear relationship.\n",
    "\n",
    "Both covariance and correlation are used in statistical analysis to understand how variables interact. Correlation is often preferred as it's not influenced by the scale of the variables."
   ]
  },
  {
   "cell_type": "markdown",
   "metadata": {},
   "source": [
    "# Q11. What is the formula for calculating the sample mean? Provide an example calculation for a dataset."
   ]
  },
  {
   "cell_type": "markdown",
   "metadata": {},
   "source": [
    " The formula for calculating the sample mean is:\n",
    "Sample Mean (x̄) = (Sum of all values) / (Number of values)\n",
    "\n",
    "For example, if you have a dataset: [12, 15, 18, 20, 22], the sample mean would be:\n",
    "(12 + 15 + 18 + 20 + 22) / 5 = 17.4"
   ]
  },
  {
   "cell_type": "markdown",
   "metadata": {},
   "source": [
    "# Q12. For a normal distribution data what is the relationship between its measure of central tendency?"
   ]
  },
  {
   "cell_type": "markdown",
   "metadata": {},
   "source": [
    " In a normal distribution, the mean, median, and mode are all located at the same point. This is because the normal distribution is symmetric around the mean."
   ]
  },
  {
   "cell_type": "markdown",
   "metadata": {},
   "source": [
    "# Q13. How is covariance different from correlation?"
   ]
  },
  {
   "cell_type": "markdown",
   "metadata": {},
   "source": [
    "Covariance measures the extent to which two variables change together, but it doesn't provide a standardized measure of the strength and direction of the relationship. Correlation, on the other hand, is a standardized measure that provides information about the strength and direction of the linear relationship between two variables. Correlation is more interpretable since it's bounded between -1 and 1, making it easier to compare relationships across different datasets."
   ]
  },
  {
   "cell_type": "markdown",
   "metadata": {},
   "source": [
    "# Q14. How do outliers affect measures of central tendency and dispersion? Provide an example."
   ]
  },
  {
   "cell_type": "markdown",
   "metadata": {},
   "source": [
    ". Outliers can significantly affect measures of central tendency and dispersion. For central tendency, outliers can pull the mean away from the majority of the data, making it less representative of the typical value. The median, being less influenced by outliers, might be a better representation in such cases.\n",
    "\n",
    "In terms of dispersion, outliers can inflate the variance and standard deviation, making the spread of the data appear larger than it actually is. For example, if you have a dataset of incomes and a few extreme high incomes (outliers), the standard deviation would be larger due to the presence of these outliers, even if the majority of incomes are not as spread out."
   ]
  },
  {
   "cell_type": "code",
   "execution_count": null,
   "metadata": {},
   "outputs": [],
   "source": []
  }
 ],
 "metadata": {
  "kernelspec": {
   "display_name": "Python 3",
   "language": "python",
   "name": "python3"
  },
  "language_info": {
   "codemirror_mode": {
    "name": "ipython",
    "version": 3
   },
   "file_extension": ".py",
   "mimetype": "text/x-python",
   "name": "python",
   "nbconvert_exporter": "python",
   "pygments_lexer": "ipython3",
   "version": "3.8.5"
  }
 },
 "nbformat": 4,
 "nbformat_minor": 4
}
