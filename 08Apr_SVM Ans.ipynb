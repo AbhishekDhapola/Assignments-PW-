{
 "cells": [
  {
   "cell_type": "markdown",
   "metadata": {},
   "source": [
    "# Q1. In order to predict house price based on several characteristics, such as location, square footage, number of bedrooms, etc., you are developing an SVM regression model. Which regression metric in this situation would be the best to employ?"
   ]
  },
  {
   "cell_type": "markdown",
   "metadata": {},
   "source": [
    " When developing an SVM regression model to predict house prices based on characteristics, the most appropriate regression metric to employ would be the Mean Squared Error (MSE). MSE measures the average squared difference between the predicted and actual house prices. In this context, you're aiming to minimize the prediction errors, and MSE is a commonly used metric for regression tasks."
   ]
  },
  {
   "cell_type": "markdown",
   "metadata": {},
   "source": [
    "# Q2. You have built an SVM regression model and are trying to decide between using MSE or R-squared as your evaluation metric. Which metric would be more appropriate if your goal is to predict the actual price of a house as accurately as possible?"
   ]
  },
  {
   "cell_type": "markdown",
   "metadata": {},
   "source": [
    " If your goal is to predict the actual price of a house as accurately as possible, then the most appropriate evaluation metric would be the Mean Squared Error (MSE). MSE directly measures the average squared difference between predicted and actual prices, giving you a quantified measure of how well your model's predictions match the true prices."
   ]
  },
  {
   "cell_type": "markdown",
   "metadata": {},
   "source": [
    "# Q3. You have a dataset with a significant number of outliers and are trying to select an appropriate regression metric to use with your SVM model. Which metric would be the most appropriate in this scenario?"
   ]
  },
  {
   "cell_type": "markdown",
   "metadata": {},
   "source": [
    " When dealing with a dataset that has a significant number of outliers, the most appropriate regression metric to use with your SVM model would be the Mean Absolute Error (MAE). MAE is less sensitive to outliers compared to MSE because it involves taking the absolute difference between the predicted and actual values. This can prevent extreme outliers from disproportionately affecting the overall metric."
   ]
  },
  {
   "cell_type": "markdown",
   "metadata": {},
   "source": [
    "# Q4. You have built an SVM regression model using a polynomial kernel and are trying to select the best metric to evaluate its performance. You have calculated both MSE and RMSE and found that both values are very close. Which metric should you choose to use in this case?"
   ]
  },
  {
   "cell_type": "markdown",
   "metadata": {},
   "source": [
    " If both the Mean Squared Error (MSE) and Root Mean Squared Error (RMSE) are very close for your SVM regression model using a polynomial kernel, you should choose to use RMSE as the evaluation metric. RMSE is more interpretable since it's in the same units as the target variable (in this case, house prices), and it gives slightly more weight to larger errors due to its square root nature."
   ]
  },
  {
   "cell_type": "markdown",
   "metadata": {},
   "source": [
    "# Q5. You are comparing the performance of different SVM regression models using different kernels (linear, polynomial, and RBF) and are trying to select the best evaluation metric. Which metric would be most appropriate if your goal is to measure how well the model explains the variance in the target variable?"
   ]
  },
  {
   "cell_type": "markdown",
   "metadata": {},
   "source": [
    "If your goal is to measure how well the model explains the variance in the target variable, the most appropriate evaluation metric would be the Coefficient of Determination (R-squared). R-squared indicates the proportion of the variance in the dependent variable (target) that is predictable from the independent variables (features). It ranges from 0 to 1, with higher values indicating a better fit of the model to the data. Therefore, R-squared is suitable for comparing the performance of SVM regression models using different kernels in terms of explaining variance."
   ]
  },
  {
   "cell_type": "code",
   "execution_count": null,
   "metadata": {},
   "outputs": [],
   "source": [
    " "
   ]
  },
  {
   "cell_type": "code",
   "execution_count": null,
   "metadata": {},
   "outputs": [],
   "source": []
  }
 ],
 "metadata": {
  "kernelspec": {
   "display_name": "Python 3",
   "language": "python",
   "name": "python3"
  },
  "language_info": {
   "codemirror_mode": {
    "name": "ipython",
    "version": 3
   },
   "file_extension": ".py",
   "mimetype": "text/x-python",
   "name": "python",
   "nbconvert_exporter": "python",
   "pygments_lexer": "ipython3",
   "version": "3.8.5"
  }
 },
 "nbformat": 4,
 "nbformat_minor": 4
}
