{
 "cells": [
  {
   "cell_type": "markdown",
   "metadata": {},
   "source": [
    "# Q1. What is the Probability density function?"
   ]
  },
  {
   "cell_type": "markdown",
   "metadata": {},
   "source": [
    "Probability Density Function (PDF): The probability density function (PDF) is a concept in probability theory and statistics that describes the likelihood of a continuous random variable taking on a specific value. It provides a way to represent the distribution of probabilities for different values of a continuous random variable. In mathematical terms, the PDF gives the derivative of the cumulative distribution function (CDF). The integral of the PDF over a range gives the probability that the random variable falls within that range."
   ]
  },
  {
   "cell_type": "markdown",
   "metadata": {},
   "source": [
    "# Q2. What are the types of Probability distribution?"
   ]
  },
  {
   "cell_type": "markdown",
   "metadata": {},
   "source": [
    "Types of Probability Distributions: There are many types of probability distributions, but some of the most common ones include:\n",
    "\n",
    "Normal Distribution (Gaussian Distribution): A symmetric, bell-shaped distribution that's widely used due to the central limit theorem.\n",
    "Binomial Distribution: Represents the number of successes in a fixed number of independent Bernoulli trials.\n",
    "Poisson Distribution: Describes the number of events occurring in a fixed interval of time or space.\n",
    "Exponential Distribution: Models the time between events in a Poisson process.\n",
    "Uniform Distribution: All outcomes have equal probabilities.\n",
    "Gamma Distribution: Generalizes the exponential distribution and is used for modeling time to failure.\n",
    "Chi-Squared Distribution: Arises in the context of hypothesis testing and is related to the normal distribution.\n",
    "Beta Distribution: Often used as a prior distribution in Bayesian statistics.\n",
    "Student's t-Distribution: Used for estimating population mean when the sample size is small and population standard deviation is unknown."
   ]
  },
  {
   "cell_type": "markdown",
   "metadata": {},
   "source": [
    "# Q3. Write a Python function to calculate the probability density function of a normal distribution with given mean and standard deviation at a given point."
   ]
  },
  {
   "cell_type": "code",
   "execution_count": 1,
   "metadata": {},
   "outputs": [
    {
     "name": "stdout",
     "output_type": "stream",
     "text": [
      "0.05399096651318806\n"
     ]
    }
   ],
   "source": [
    "import math\n",
    "\n",
    "def normal_pdf(x, mean, std_dev):\n",
    "    exponent = -((x - mean) ** 2) / (2 * std_dev ** 2)\n",
    "    coeff = 1 / (std_dev * math.sqrt(2 * math.pi))\n",
    "    return coeff * math.exp(exponent)\n",
    "\n",
    "mean = 0\n",
    "std_dev = 1\n",
    "x_value = 2\n",
    "pdf_value = normal_pdf(x_value, mean, std_dev)\n",
    "print(pdf_value)\n"
   ]
  },
  {
   "cell_type": "markdown",
   "metadata": {},
   "source": [
    "# Q4. What are the properties of Binomial distribution? Give two examples of events where binomial distribution can be applied."
   ]
  },
  {
   "cell_type": "markdown",
   "metadata": {},
   "source": [
    "Properties of Binomial Distribution: The binomial distribution has the following properties:\n",
    "\n",
    "Consists of a fixed number of independent trials.\n",
    "Each trial has two possible outcomes: success or failure.\n",
    "The probability of success remains constant across all trials.\n",
    "The trials are independent.\n",
    "The random variable represents the count of successes in the fixed number of trials.\n",
    "Two examples of events where the binomial distribution can be applied:\n",
    "\n",
    "Counting the number of successful free throws a basketball player makes in a fixed number of attempts.\n",
    "Tracking the number of defective items in a sample of products from a manufacturing line."
   ]
  },
  {
   "cell_type": "markdown",
   "metadata": {},
   "source": [
    "# Q5. Generate a random sample of size 1000 from a binomial distribution with probability of success 0.4 and plot a histogram of the results using matplotlib."
   ]
  },
  {
   "cell_type": "code",
   "execution_count": 2,
   "metadata": {},
   "outputs": [
    {
     "data": {
      "image/png": "[encoded data removed]",
      "text/plain": [
       "<Figure size 432x288 with 1 Axes>"
      ]
     },
     "metadata": {
      "needs_background": "light"
     },
     "output_type": "display_data"
    }
   ],
   "source": [
    "import numpy as np\n",
    "import matplotlib.pyplot as plt\n",
    "\n",
    "sample_size = 1000\n",
    "probability_success = 0.4\n",
    "random_sample = np.random.binomial(n=1, p=probability_success, size=sample_size)\n",
    "\n",
    "plt.hist(random_sample, bins=2, density=True, alpha=0.6)\n",
    "plt.xlabel(\"Number of Successes\")\n",
    "plt.ylabel(\"Probability\")\n",
    "plt.title(\"Histogram of Binomial Distribution\")\n",
    "plt.show()\n"
   ]
  },
  {
   "cell_type": "markdown",
   "metadata": {},
   "source": [
    "# Q6. Write a Python function to calculate the cumulative distribution function of a Poisson distribution with given mean at a given point."
   ]
  },
  {
   "cell_type": "code",
   "execution_count": 3,
   "metadata": {},
   "outputs": [
    {
     "name": "stdout",
     "output_type": "stream",
     "text": [
      "0.42319008112684353\n"
     ]
    }
   ],
   "source": [
    "import math\n",
    "\n",
    "def poisson_cdf(x, mean):\n",
    "    cdf = 0\n",
    "    for k in range(0, x + 1):\n",
    "        cdf += math.exp(-mean) * (mean ** k) / math.factorial(k)\n",
    "    return cdf\n",
    "\n",
    "mean_poisson = 3\n",
    "x_value_poisson = 2\n",
    "cdf_value = poisson_cdf(x_value_poisson, mean_poisson)\n",
    "print(cdf_value)\n"
   ]
  },
  {
   "cell_type": "markdown",
   "metadata": {},
   "source": [
    "# Q7. How Binomial distribution different from Poisson distribution?"
   ]
  },
  {
   "cell_type": "markdown",
   "metadata": {},
   "source": [
    "Binomial Distribution: Applicable to a fixed number of trials with two outcomes (success/failure) and constant probability of success. It's discrete.\n",
    "Poisson Distribution: Describes the number of events in a fixed interval, assuming events are rare and independent. It's also discrete."
   ]
  },
  {
   "cell_type": "markdown",
   "metadata": {},
   "source": [
    "# Q8. Generate a random sample of size 1000 from a Poisson distribution with mean 5 and calculate the sample mean and variance."
   ]
  },
  {
   "cell_type": "code",
   "execution_count": 4,
   "metadata": {},
   "outputs": [
    {
     "name": "stdout",
     "output_type": "stream",
     "text": [
      "Sample Mean: 4.967\n",
      "Sample Variance: 4.943911\n"
     ]
    }
   ],
   "source": [
    "import numpy as np\n",
    "\n",
    "sample_size_poisson = 1000\n",
    "mean_poisson = 5\n",
    "random_sample_poisson = np.random.poisson(lam=mean_poisson, size=sample_size_poisson)\n",
    "\n",
    "sample_mean = np.mean(random_sample_poisson)\n",
    "sample_variance = np.var(random_sample_poisson)\n",
    "\n",
    "print(\"Sample Mean:\", sample_mean)\n",
    "print(\"Sample Variance:\", sample_variance)\n"
   ]
  },
  {
   "cell_type": "markdown",
   "metadata": {},
   "source": [
    "# Q9. How mean and variance are related in Binomial distribution and Poisson distribution?"
   ]
  },
  {
   "cell_type": "markdown",
   "metadata": {},
   "source": [
    "Relation between Mean and Variance in Binomial and Poisson Distributions:\n",
    "\n",
    "Binomial Distribution: The mean (μ) is given by μ = n * p, where n is the number of trials and p is the probability of success. The variance (σ^2) is given by σ^2 = n * p * (1 - p).\n",
    "Poisson Distribution: The mean (μ) and variance (σ^2) are both equal and given by μ = σ^2 = λ, where λ is the average rate of events."
   ]
  },
  {
   "cell_type": "markdown",
   "metadata": {},
   "source": [
    "# Q10. In normal distribution with respect to mean position, where does the least frequent data appear?"
   ]
  },
  {
   "cell_type": "markdown",
   "metadata": {},
   "source": [
    "Position of Least Frequent Data in Normal Distribution:\n",
    "In a normal distribution, the least frequent data points appear in the tails of the distribution, farthest from the mean. This is because the normal distribution is symmetric and bell-shaped, with the highest frequency of data points centered around the mean. As you move away from the mean, the frequency of data points decreases, resulting in the tails of the distribution containing the least frequent data."
   ]
  },
  {
   "cell_type": "code",
   "execution_count": null,
   "metadata": {},
   "outputs": [],
   "source": []
  }
 ],
 "metadata": {
  "kernelspec": {
   "display_name": "Python 3",
   "language": "python",
   "name": "python3"
  },
  "language_info": {
   "codemirror_mode": {
    "name": "ipython",
    "version": 3
   },
   "file_extension": ".py",
   "mimetype": "text/x-python",
   "name": "python",
   "nbconvert_exporter": "python",
   "pygments_lexer": "ipython3",
   "version": "3.8.5"
  }
 },
 "nbformat": 4,
 "nbformat_minor": 4
}
