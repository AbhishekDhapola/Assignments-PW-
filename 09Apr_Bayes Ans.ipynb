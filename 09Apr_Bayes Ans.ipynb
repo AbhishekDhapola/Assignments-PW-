{
 "cells": [
  {
   "cell_type": "markdown",
   "metadata": {},
   "source": [
    "# Q1. What is Bayes' theorem?"
   ]
  },
  {
   "cell_type": "markdown",
   "metadata": {},
   "source": [
    "Bayes' theorem is a fundamental concept in probability theory and statistics that describes how to update the probability of a hypothesis based on new evidence or information. It provides a mathematical framework for reasoning under uncertainty and is widely used in various fields, including machine learning, biology, economics, and more."
   ]
  },
  {
   "cell_type": "markdown",
   "metadata": {},
   "source": [
    "# Q2. What is the formula for Bayes' theorem?"
   ]
  },
  {
   "cell_type": "raw",
   "metadata": {},
   "source": [
    "P(A|B) = (P(B|A) * P(A)) / P(B)\n"
   ]
  },
  {
   "cell_type": "markdown",
   "metadata": {},
   "source": [
    "# Q3. How is Bayes' theorem used in practice?"
   ]
  },
  {
   "cell_type": "markdown",
   "metadata": {},
   "source": [
    "Bayes' theorem is used to update probabilities based on new information. In practice, it's often applied in situations where we have prior knowledge and want to incorporate new evidence to make more informed decisions. Examples include:\n",
    "\n",
    "Medical diagnoses: Incorporating new test results to update the probability of a particular disease.\n",
    "Spam filtering: Updating the probability that an email is spam based on the presence of certain keywords.\n",
    "Weather forecasting: Updating the probability of rain based on new meteorological data."
   ]
  },
  {
   "cell_type": "markdown",
   "metadata": {},
   "source": [
    "# Q4. What is the relationship between Bayes' theorem and conditional probability?"
   ]
  },
  {
   "cell_type": "markdown",
   "metadata": {},
   "source": [
    "Bayes' theorem is essentially a formula that relates conditional probabilities. It provides a way to calculate the probability of one event occurring given that another event has occurred. The relationship between Bayes' theorem and conditional probability is central to understanding how to update probabilities as new information becomes available."
   ]
  },
  {
   "cell_type": "markdown",
   "metadata": {},
   "source": [
    "# Q5. How do you choose which type of Naive Bayes classifier to use for any given problem?"
   ]
  },
  {
   "cell_type": "markdown",
   "metadata": {},
   "source": [
    "Naive Bayes is a family of simple probabilistic classifiers based on applying Bayes' theorem with the \"naive\" assumption of feature independence. The choice of which type of Naive Bayes classifier to use depends on the nature of your data and the problem you're trying to solve. Here are three common types of Naive Bayes classifiers and their typical use cases:\n",
    "\n",
    "Gaussian Naive Bayes: This classifier assumes that the features follow a Gaussian (normal) distribution. It's suitable for continuous numerical data where the distribution of each feature is approximately Gaussian.\n",
    "\n",
    "Multinomial Naive Bayes: This classifier is appropriate for discrete data, particularly for text classification and natural language processing tasks. It's commonly used when dealing with count-based data, like word frequencies in documents.\n",
    "\n",
    "Bernoulli Naive Bayes: Similar to Multinomial Naive Bayes, this classifier is used for binary or categorical data. It's often used for text classification tasks where the presence or absence of words in a document is used as features.\n",
    "\n",
    "Choosing the right type of Naive Bayes classifier involves understanding the distribution of your data and the characteristics of your features. Experimentation and cross-validation can also help determine which variant performs best for your specific problem."
   ]
  },
  {
   "cell_type": "markdown",
   "metadata": {},
   "source": [
    "# Q6 Assignment:"
   ]
  },
  {
   "cell_type": "raw",
   "metadata": {},
   "source": [
    "### Naive Bayes Classification\n",
    "\n",
    "To predict the class of the new instance using Naive Bayes, we need to calculate the posterior probabilities for each class and choose the class with the highest posterior probability. Given that the prior probabilities are equal for both classes and using the Naive Bayes assumption of feature independence, we can proceed as follows:\n",
    "\n",
    "Let's denote:\n",
    "- P(A) as the prior probability of class A.\n",
    "- P(B) as the prior probability of class B.\n",
    "- P(X1=3 | A) as the conditional probability of feature X1 having the value 3 given class A.\n",
    "- P(X1=3 | B) as the conditional probability of feature X1 having the value 3 given class B.\n",
    "- P(X2=4 | A) as the conditional probability of feature X2 having the value 4 given class A.\n",
    "- P(X2=4 | B) as the conditional probability of feature X2 having the value 4 given class B.\n",
    "\n",
    "The posterior probability for class A can be calculated using Bayes' theorem:\n",
    "\n",
    "\\[ P(A | X1=3, X2=4) = \\frac{P(X1=3 | A) \\cdot P(X2=4 | A) \\cdot P(A)}{P(X1=3, X2=4)} \\]\n",
    "\n",
    "Similarly, the posterior probability for class B can be calculated:\n",
    "\n",
    "\\[ P(B | X1=3, X2=4) = \\frac{P(X1=3 | B) \\cdot P(X2=4 | B) \\cdot P(B)}{P(X1=3, X2=4)} \\]\n",
    "\n",
    "Since the prior probabilities are equal for both classes (i.e., P(A) = P(B)), we can ignore them in the comparison. Therefore, we only need to compare \\( P(X1=3 | A) \\cdot P(X2=4 | A) \\) and \\( P(X1=3 | B) \\cdot P(X2=4 | B) \\) to determine which class is more probable.\n",
    "\n",
    "Given the provided table, we find the values:\n",
    "- P(X1=3 | A) = 4/10\n",
    "- P(X2=4 | A) = 3/10\n",
    "- P(X1=3 | B) = 1/10\n",
    "- P(X2=4 | B) = 3/10\n",
    "\n",
    "Calculating the products for both classes:\n",
    "- For class A: \\( P(X1=3 | A) \\cdot P(X2=4 | A) = (4/10) \\cdot (3/10) = 12/100 \\)\n",
    "- For class B: \\( P(X1=3 | B) \\cdot P(X2=4 | B) = (1/10) \\cdot (3/10) = 3/100 \\)\n",
    "\n",
    "Since \\( 12/100 > 3/100 \\), the Naive Bayes classifier would predict that the new instance belongs to class A.\n"
   ]
  },
  {
   "cell_type": "code",
   "execution_count": null,
   "metadata": {},
   "outputs": [],
   "source": []
  }
 ],
 "metadata": {
  "kernelspec": {
   "display_name": "Python 3",
   "language": "python",
   "name": "python3"
  },
  "language_info": {
   "codemirror_mode": {
    "name": "ipython",
    "version": 3
   },
   "file_extension": ".py",
   "mimetype": "text/x-python",
   "name": "python",
   "nbconvert_exporter": "python",
   "pygments_lexer": "ipython3",
   "version": "3.8.5"
  }
 },
 "nbformat": 4,
 "nbformat_minor": 4
}
