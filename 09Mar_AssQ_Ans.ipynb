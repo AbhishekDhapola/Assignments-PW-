{
 "cells": [
  {
   "cell_type": "markdown",
   "metadata": {},
   "source": [
    "# Q1: What are the Probability Mass Function (PMF) and Probability Density Function (PDF)? Explain with an example."
   ]
  },
  {
   "cell_type": "markdown",
   "metadata": {},
   "source": [
    "Probability Mass Function (PMF) and Probability Density Function (PDF) are mathematical concepts used in probability theory and statistics to describe the probabilities or densities of different outcomes in a random variable.\n",
    "\n",
    "The PMF is used for discrete random variables. It gives the probability that a discrete random variable takes on a specific value. For example, if you have a fair six-sided die, the PMF of rolling a 1 would be 1/6, because there's a 1 in 6 chance of rolling a 1.\n",
    "\n",
    "The PDF, on the other hand, is used for continuous random variables. It describes the likelihood of a continuous random variable falling within a certain range. For instance, in the case of a standard normal distribution, the PDF at a particular point represents the height of the curve at that point."
   ]
  },
  {
   "cell_type": "markdown",
   "metadata": {},
   "source": [
    "# Q2: What is Cumulative Density Function (CDF)? Explain with an example. Why CDF is used?"
   ]
  },
  {
   "cell_type": "markdown",
   "metadata": {},
   "source": [
    "The Cumulative Density Function (CDF) of a random variable gives the probability that the variable will take a value less than or equal to a given value. It provides a way to understand the distribution of the variable's values.\n",
    "\n",
    "For example, in the case of a standard normal distribution, the CDF at a specific value like 1.5 would give you the probability that a random observation from that distribution is less than or equal to 1.5.\n",
    "\n",
    "The CDF is used to find the probabilities of ranges of values, as well as to calculate percentiles and quantiles of a distribution."
   ]
  },
  {
   "cell_type": "markdown",
   "metadata": {},
   "source": [
    "# Q3: What are some examples of situations where the normal distribution might be used as a model? Explain how the parameters of the normal distribution relate to the shape of the distribution."
   ]
  },
  {
   "cell_type": "markdown",
   "metadata": {},
   "source": [
    "The normal distribution, also known as the Gaussian distribution, is widely used as a model in various fields due to its properties and prevalence in natural phenomena. Some examples of situations where the normal distribution might be used include:\n",
    "\n",
    "Height of People: Heights tend to follow a roughly normal distribution.\n",
    "Test Scores: If a test is well-designed, the scores of a large number of test-takers will often follow a normal distribution.\n",
    "Errors in Measurements: Measurement errors often follow a normal distribution.\n",
    "Financial Markets: Stock prices and returns can often be modeled using a normal distribution.\n",
    "The normal distribution is characterized by two parameters: the mean (μ) and the standard deviation (σ). The mean determines the central location of the distribution, while the standard deviation controls the spread or dispersion of the distribution. Larger standard deviations lead to wider distributions."
   ]
  },
  {
   "cell_type": "markdown",
   "metadata": {},
   "source": [
    "# Q4: Explain the importance of Normal Distribution. Give a few real-life examples of Normal Distribution"
   ]
  },
  {
   "cell_type": "markdown",
   "metadata": {},
   "source": [
    "The normal distribution is important because of the central limit theorem, which states that the sum or average of a large number of independent, identically distributed random variables will be approximately normally distributed, regardless of the original distribution. This makes the normal distribution a fundamental tool in statistics.\n",
    "\n",
    "Real-life examples of the normal distribution include:\n",
    "\n",
    "IQ scores: IQ scores tend to follow a normal distribution.\n",
    "Body measurements: Height, weight, and other body measurements often exhibit a normal distribution.\n",
    "Measurement errors: Errors in measurement devices often approximate a normal distribution."
   ]
  },
  {
   "cell_type": "markdown",
   "metadata": {},
   "source": [
    "# Q5: What is Bernaulli Distribution? Give an Example. What is the difference between Bernoulli Distribution and Binomial Distribution?"
   ]
  },
  {
   "cell_type": "markdown",
   "metadata": {},
   "source": [
    "The Bernoulli distribution models a single binary event with two possible outcomes (usually success and failure), where success has a probability of p and failure has a probability of 1 - p.\n",
    "\n",
    "An example of Bernoulli distribution is modeling the outcome of a coin flip, where success might represent getting heads (with probability p) and failure representing getting tails (with probability 1 - p).\n",
    "\n",
    "The binomial distribution, on the other hand, models the number of successes in a fixed number of independent Bernoulli trials. It's essentially a sum of multiple independent and identically distributed Bernoulli random variables."
   ]
  },
  {
   "cell_type": "markdown",
   "metadata": {},
   "source": [
    "# Q6. Consider a dataset with a mean of 50 and a standard deviation of 10. If we assume that the dataset is normally distributed, what is the probability that a randomly selected observation will be greater than 60? Use the appropriate formula and show your calculations."
   ]
  },
  {
   "cell_type": "markdown",
   "metadata": {},
   "source": [
    "To find the probability that a randomly selected observation from a normally distributed dataset with a mean (μ) of 50 and a standard deviation (σ) of 10 is greater than 60, you need to calculate the z-score for 60 and then use the standard normal distribution table or a calculator to find the probability.\n",
    "\n",
    "The z-score is calculated as:\n",
    "z = (x - μ) / σ\n",
    "z = (60 - 50) / 10\n",
    "z = 1\n",
    "\n",
    "Now, you can use a standard normal distribution table or calculator to find the probability that z is greater than 1. This probability is approximately 0.1587 or 15.87%."
   ]
  },
  {
   "cell_type": "markdown",
   "metadata": {},
   "source": [
    "# Q7: Explain uniform Distribution with an example."
   ]
  },
  {
   "cell_type": "markdown",
   "metadata": {},
   "source": [
    "A uniform distribution is a probability distribution where all possible outcomes are equally likely. In other words, each value in the range has an equal probability of occurring. It is often depicted as a flat, constant density function.\n",
    "\n",
    "An example of a uniform distribution is rolling a fair six-sided die. Each face of the die has an equal probability of 1/6 of coming up, making it a uniform distribution."
   ]
  },
  {
   "cell_type": "markdown",
   "metadata": {},
   "source": [
    "# Q8: What is the z score? State the importance of the z score."
   ]
  },
  {
   "cell_type": "markdown",
   "metadata": {},
   "source": [
    "The z-score measures how many standard deviations an individual data point is away from the mean of a distribution. It's calculated as (x - μ) / σ, where x is the data point, μ is the mean, and σ is the standard deviation.\n",
    "\n",
    "The z-score is important because it allows us to standardize different data points from different distributions onto a common scale. This is particularly useful for comparing data points across different contexts or for identifying outliers in a dataset."
   ]
  },
  {
   "cell_type": "markdown",
   "metadata": {},
   "source": [
    "# Q9: What is Central Limit Theorem? State the significance of the Central Limit Theorem."
   ]
  },
  {
   "cell_type": "markdown",
   "metadata": {},
   "source": [
    "The Central Limit Theorem states that when independent random variables are added together, their sum tends toward a normal distribution, even if the original variables themselves are not normally distributed. This is a fundamental concept in statistics and has important implications for hypothesis testing and confidence intervals."
   ]
  },
  {
   "cell_type": "markdown",
   "metadata": {},
   "source": [
    "# Q10: State the assumptions of the Central Limit Theorem."
   ]
  },
  {
   "cell_type": "markdown",
   "metadata": {},
   "source": [
    "The Central Limit Theorem makes several assumptions:\n",
    "\n",
    "Independence: The random variables being summed are assumed to be independent of each other.\n",
    "Sample Size: The sample size should be sufficiently large. While there's no strict rule, a sample size of around 30 is often considered sufficient for the CLT to start applying effectively.\n",
    "Finite Variance: The individual random variables should have finite variances.\n",
    "It's important to note that the larger the sample size, the more closely the distribution of the sample mean will resemble a normal distribution, regardless of the distribution of the original data."
   ]
  },
  {
   "cell_type": "code",
   "execution_count": null,
   "metadata": {},
   "outputs": [],
   "source": []
  }
 ],
 "metadata": {
  "kernelspec": {
   "display_name": "Python 3",
   "language": "python",
   "name": "python3"
  },
  "language_info": {
   "codemirror_mode": {
    "name": "ipython",
    "version": 3
   },
   "file_extension": ".py",
   "mimetype": "text/x-python",
   "name": "python",
   "nbconvert_exporter": "python",
   "pygments_lexer": "ipython3",
   "version": "3.8.5"
  }
 },
 "nbformat": 4,
 "nbformat_minor": 4
}
