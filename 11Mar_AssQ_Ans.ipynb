{
 "cells": [
  {
   "cell_type": "markdown",
   "metadata": {},
   "source": [
    "# Q1: What is the difference between a t-test and a z-test? Provide an example scenario where you would use each type of test."
   ]
  },
  {
   "cell_type": "markdown",
   "metadata": {},
   "source": [
    "Both t-tests and z-tests are used for hypothesis testing, but they are suited for different situations.\n",
    "\n",
    "A z-test is used when you have a large sample size (typically n > 30) and you know the population standard deviation. It's used to test hypotheses about population means.\n",
    "\n",
    "An example scenario for a z-test: Suppose you want to test whether the average height of a sample of 100 adults is significantly different from a known population average height of 170 cm, with a known population standard deviation of 10 cm.\n",
    "A t-test, on the other hand, is used when you have a small sample size (typically n < 30) or when the population standard deviation is unknown. It's also used for testing hypotheses about population means.\n",
    "\n",
    "An example scenario for a t-test: You want to test whether a new teaching method significantly improves students' test scores compared to the traditional method. You collect test scores from a sample of 20 students who were taught using the new method"
   ]
  },
  {
   "cell_type": "markdown",
   "metadata": {},
   "source": [
    "# Q2: Differentiate between one-tailed and two-tailed tests."
   ]
  },
  {
   "cell_type": "markdown",
   "metadata": {},
   "source": [
    "In a one-tailed test, you are interested in a specific direction of effect (e.g., higher or lower), and the critical region for rejection is on one side of the distribution curve. In a two-tailed test, you are interested in whether there's a significant difference, regardless of direction, and the critical region for rejection is split between both sides of the distribution curve."
   ]
  },
  {
   "cell_type": "markdown",
   "metadata": {},
   "source": [
    "# Q3: Explain the concept of Type 1 and Type 2 errors in hypothesis testing. Provide an example scenario for each type of error."
   ]
  },
  {
   "cell_type": "markdown",
   "metadata": {},
   "source": [
    "Type 1 error: This occurs when you reject a true null hypothesis. In other words, you conclude there is an effect when there isn't one. It's also called a false positive.\n",
    "Type 2 error: This occurs when you fail to reject a false null hypothesis. In other words, you miss a real effect that is present. It's also called a false negative.\n",
    "Example scenarios:\n",
    "\n",
    "Type 1 error: A medical test incorrectly indicates a person has a disease when they are actually healthy.\n",
    "Type 2 error: A medical test fails to detect a disease that the person actually has."
   ]
  },
  {
   "cell_type": "markdown",
   "metadata": {},
   "source": [
    "# Q4: Explain Bayes's theorem with an example."
   ]
  },
  {
   "cell_type": "markdown",
   "metadata": {},
   "source": [
    "Bayes's Theorem is a mathematical formula for updating the probability of an event based on new evidence. It's used in probability and statistics.\n",
    "\n",
    "Formula: P(A|B) = P(B|A) * P(A) / P(B)\n",
    "\n",
    "Example: Suppose you want to know the probability that someone has a certain medical condition given a positive test result. P(A) is the prior probability of having the condition, P(B|A) is the probability of testing positive if you have the condition, and P(B) is the probability of testing positive in general."
   ]
  },
  {
   "cell_type": "markdown",
   "metadata": {},
   "source": [
    "# Q5: What is a confidence interval? How to calculate the confidence interval, explain with an example."
   ]
  },
  {
   "cell_type": "markdown",
   "metadata": {},
   "source": [
    "A confidence interval is a range of values around a sample statistic (like a mean) that is likely to contain the true population parameter with a certain level of confidence.\n",
    "\n",
    "Calculation: Confidence interval = Sample mean ± (Z-score or t-score * Standard error)"
   ]
  },
  {
   "cell_type": "markdown",
   "metadata": {},
   "source": [
    "# Q6. Use Bayes' Theorem to calculate the probability of an event occurring given prior knowledge of the event's probability and new evidence. Provide a sample problem and solution."
   ]
  },
  {
   "cell_type": "markdown",
   "metadata": {},
   "source": [
    "Let's say you're dealing with the probability of rain and you have the following probabilities:\n",
    "\n",
    "Prior probability of rain: P(Rain) = 0.3\n",
    "Probability of rain given dark clouds: P(Rain|Dark Clouds) = 0.8\n",
    "You then observe dark clouds.\n",
    "Using Bayes's Theorem: P(Rain|Dark Clouds) = P(Dark Clouds|Rain) * P(Rain) / P(Dark Clouds)\n",
    "\n",
    "Substitute the values: P(Rain|Dark Clouds) = 0.8 * 0.3 / P(Dark Clouds)"
   ]
  },
  {
   "cell_type": "markdown",
   "metadata": {},
   "source": [
    "# Q7. Calculate the 95% confidence interval for a sample of data with a mean of 50 and a standard deviation of 5. Interpret the results."
   ]
  },
  {
   "cell_type": "markdown",
   "metadata": {},
   "source": [
    "For a sample with a mean of 50 and a standard deviation of 5, and assuming a normal distribution, the formula for a 95% confidence interval is:\n",
    "Confidence interval = Sample mean ± (Z-score for 95% confidence * Standard error)"
   ]
  },
  {
   "cell_type": "markdown",
   "metadata": {},
   "source": [
    "# Q8. What is the margin of error in a confidence interval? How does sample size affect the margin of error? Provide an example of a scenario where a larger sample size would result in a smaller margin of error."
   ]
  },
  {
   "cell_type": "markdown",
   "metadata": {},
   "source": [
    "The margin of error is the range within which the true population parameter is likely to lie based on the sample data. A larger sample size generally results in a smaller margin of error, making the estimate more precise."
   ]
  },
  {
   "cell_type": "markdown",
   "metadata": {},
   "source": [
    "# Q9. Calculate the z-score for a data point with a value of 75, a population mean of 70, and a population standard deviation of 5. Interpret the results."
   ]
  },
  {
   "cell_type": "markdown",
   "metadata": {},
   "source": [
    "The z-score measures how many standard deviations a data point is away from the mean. In this case, with a value of 75, a population mean of 70, and a population standard deviation of 5, the z-score is (75 - 70) / 5 = 1.\n",
    "\n",
    "Interpretation: The data point of 75 is 1 standard deviation above the mean."
   ]
  },
  {
   "cell_type": "markdown",
   "metadata": {},
   "source": [
    "# Q10. In a study of the effectiveness of a new weight loss drug, a sample of 50 participants lost an average of 6 pounds with a standard deviation of 2.5 pounds. Conduct a hypothesis test to determine if the drug is significantly effective at a 95% confidence level using a t-test."
   ]
  },
  {
   "cell_type": "markdown",
   "metadata": {},
   "source": [
    "Here is the hypothesis test:\n",
    "\n",
    "Null hypothesis: The drug is not significantly effective.\n",
    "\n",
    "Alternative hypothesis: The drug is significantly effective.\n",
    "\n",
    "Significance level: 0.05\n",
    "\n",
    "Confidence level: 95%\n",
    "\n",
    "We can use a t-test to test the hypothesis. The t-statistic is calculated as follows:\n",
    "\n",
    "t = (mean - hypothesized mean) / (standard deviation / sqrt(n))\n",
    "mean = 6 pounds\n",
    "hypothesized mean = 0 pounds (no weight loss)\n",
    "standard deviation = 2.5 pounds\n",
    "n = 50 participants\n",
    "t = (6 - 0) / (2.5 / sqrt(50)) = 8.69\n",
    "The critical value of t for a two-tailed test with a significance level of 0.05 and 49 degrees of freedom is 1.96. Since the absolute value of the t-statistic (8.69) is greater than the critical value (1.96), we can reject the null hypothesis and conclude that the drug is significantly effective at a 95% confidence level.\n",
    "\n",
    "In other words, there is a 95% chance that the true mean weight loss for the drug is greater than 0 pounds.\n",
    "\n",
    "Here is a summary of the results:\n",
    "\n",
    "Null hypothesis rejected\n",
    "Alternative hypothesis accepted\n",
    "Drug is significantly effective at a 95% confidence level"
   ]
  },
  {
   "cell_type": "markdown",
   "metadata": {},
   "source": [
    "# Q11. In a survey of 500 people, 65% reported being satisfied with their current job. Calculate the 95% confidence interval for the true proportion of people who are satisfied with their job."
   ]
  },
  {
   "cell_type": "markdown",
   "metadata": {},
   "source": [
    "The 95% confidence interval for the true proportion of people who are satisfied with their job is calculated as follows:\n",
    "\n",
    "point estimate +- z * standard error of the estimate\n",
    "point estimate = 65%\n",
    "z = 1.96 (for a 95% confidence interval)\n",
    "standard error of the estimate = sqrt(p(1-p)/n) = sqrt(0.65(1-0.65)/500) = 0.03\n",
    "95% confidence interval = 0.65 +- 1.96 * 0.03 = 0.61 to 0.69\n",
    "Therefore, we are 95% confident that the true proportion of people who are satisfied with their job is between 61% and 69%."
   ]
  },
  {
   "cell_type": "markdown",
   "metadata": {},
   "source": [
    "# Q12. A researcher is testing the effectiveness of two different teaching methods on student performance. Sample A has a mean score of 85 with a standard deviation of 6, while sample B has a mean score of 82 with a standard deviation of 5. Conduct a hypothesis test to determine if the two teaching methods have a significant difference in student performance using a t-test with a significance level of 0.01."
   ]
  },
  {
   "cell_type": "markdown",
   "metadata": {},
   "source": [
    "Here is the hypothesis test:\n",
    "\n",
    "Null hypothesis: The two teaching methods have no significant difference in student performance.\n",
    "\n",
    "Alternative hypothesis: The two teaching methods have a significant difference in student performance.\n",
    "\n",
    "Significance level: 0.01\n",
    "\n",
    "Confidence level: 99%\n",
    "\n",
    "We can use a t-test to test the hypothesis. The t-statistic is calculated as follows:\n",
    "\n",
    "t = (mean_1 - mean_2) / (s_p * sqrt(1/n_1 + 1/n_2))\n",
    "mean_1 = 85 (mean score of sample A)\n",
    "mean_2 = 82 (mean score of sample B)\n",
    "s_p = sqrt(((n_1 - 1) * std_1 ** 2 + (n_2 - 1) * std_2 ** 2) / (n_1 + n_2 - 2)) = 5.83 (pooled standard deviation)\n",
    "n_1 = 10 (sample size of sample A)\n",
    "n_2 = 10 (sample size of sample B)\n",
    "t = (85 - 82) / (5.83 * sqrt(1/10 + 1/10)) = 1.21\n",
    "The critical value of t for a two-tailed test with a significance level of 0.01 and 18 degrees of freedom is 2.89. Since the absolute value of the t-statistic (1.21) is less than the critical value (2.89), we cannot reject the null hypothesis.\n",
    "\n",
    "In other words, there is not enough evidence to conclude that the two teaching methods have a significant difference in student performance at a 99% confidence level.\n",
    "\n",
    "Here is a summary of the results:\n",
    "\n",
    "Null hypothesis cannot be rejected\n",
    "Alternative hypothesis cannot be accepted\n",
    "There is no significant difference between the two teaching methods in student performance"
   ]
  },
  {
   "cell_type": "markdown",
   "metadata": {},
   "source": [
    "# Q13. A population has a mean of 60 and a standard deviation of 8. A sample of 50 observations has a mean of 65. Calculate the 90% confidence interval for the true population mean."
   ]
  },
  {
   "cell_type": "markdown",
   "metadata": {},
   "source": [
    "The 90% confidence interval for the true population mean is calculated as follows:\n",
    "\n",
    "mean +- t * standard deviation / sqrt(n)\n",
    "mean = 65 (sample mean)\n",
    "t = 1.645 (for a 90% confidence interval)\n",
    "standard deviation = 8\n",
    "n = 50\n",
    "90% confidence interval = 65 +- 1.645 * 8 / sqrt(50) = 60 to 70\n",
    "Therefore, we are 90% confident that the true population mean is between 60 and 70.\n",
    "\n",
    "Here is a breakdown of the calculation:\n",
    "\n",
    "The t-value of 1.645 is for a 90% confidence interval and 49 degrees of freedom (n - 1).\n",
    "The standard deviation of 8 is known from the population.\n",
    "The sample size of 50 is large enough, so we can use the normal distribution to approximate the t-distribution."
   ]
  },
  {
   "cell_type": "markdown",
   "metadata": {},
   "source": [
    "# Q14. In a study of the effects of caffeine on reaction time, a sample of 30 participants had an average reaction time of 0.25 seconds with a standard deviation of 0.05 seconds. Conduct a hypothesis test to determine if the caffeine has a significant effect on reaction time at a 90% confidence level using a t-test."
   ]
  },
  {
   "cell_type": "markdown",
   "metadata": {},
   "source": [
    "Here is the hypothesis test:\n",
    "\n",
    "Null hypothesis: Caffeine does not have a significant effect on reaction time.\n",
    "\n",
    "Alternative hypothesis: Caffeine has a significant effect on reaction time.\n",
    "\n",
    "Significance level: 0.10\n",
    "\n",
    "Confidence level: 90%\n",
    "\n",
    "We can use a t-test to test the hypothesis. The t-statistic is calculated as follows:\n",
    "\n",
    "t = (mean - hypothesized mean) / (standard deviation / sqrt(n))\n",
    "mean = 0.25 seconds (sample mean)\n",
    "hypothesized mean = 0.2 seconds (no effect of caffeine)\n",
    "standard deviation = 0.05 seconds\n",
    "n = 30 participants\n",
    "t = (0.25 - 0.2) / (0.05 / sqrt(30)) = 2.00\n",
    "The critical value of t for a two-tailed test with a significance level of 0.10 and 29 degrees of freedom is 1.697. Since the absolute value of the t-statistic (2.00) is greater than the critical value (1.697), we can reject the null hypothesis and conclude that caffeine has a significant effect on reaction time at a 90% confidence level.\n",
    "\n",
    "In other words, there is a 90% chance that the true mean reaction time for people who consume caffeine is less than 0.2 seconds.\n",
    "\n",
    "Here is a summary of the results:\n",
    "\n",
    "Null hypothesis rejected\n",
    "Alternative hypothesis accepted\n",
    "Caffeine has a significant effect on reaction time at a 90% confidence level"
   ]
  },
  {
   "cell_type": "code",
   "execution_count": null,
   "metadata": {},
   "outputs": [],
   "source": []
  },
  {
   "cell_type": "code",
   "execution_count": null,
   "metadata": {},
   "outputs": [],
   "source": []
  },
  {
   "cell_type": "code",
   "execution_count": null,
   "metadata": {},
   "outputs": [],
   "source": []
  }
 ],
 "metadata": {
  "kernelspec": {
   "display_name": "Python 3",
   "language": "python",
   "name": "python3"
  },
  "language_info": {
   "codemirror_mode": {
    "name": "ipython",
    "version": 3
   },
   "file_extension": ".py",
   "mimetype": "text/x-python",
   "name": "python",
   "nbconvert_exporter": "python",
   "pygments_lexer": "ipython3",
   "version": "3.8.5"
  }
 },
 "nbformat": 4,
 "nbformat_minor": 4
}
