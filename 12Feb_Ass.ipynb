{
 "cells": [
  {
   "cell_type": "markdown",
   "metadata": {},
   "source": [
    "# What is an Exception in python? write the difference between Exceptions and Syntax errors"
   ]
  },
  {
   "cell_type": "markdown",
   "metadata": {},
   "source": [
    "In Python, an exception is an event that occurs during the execution of a program, disrupting the normal flow of the program's instructions. When an exception is raised, it can be caught and handled by the program to prevent it from crashing. Exceptions can occur for various reasons, such as when attempting to perform an invalid operation, accessing a non-existent file, dividing by zero, or encountering other runtime issues.\n",
    "\n",
    "Exceptions are categorized into different types based on the specific error that occurred. Some common built-in exception types in Python include TypeError, ValueError, NameError, ZeroDivisionError, FileNotFoundError, and many others.\n",
    "\n",
    "Syntax errors, on the other hand, are a different type of issue. They occur when the Python interpreter encounters code that does not follow the correct syntax rules of the language. Syntax errors prevent the code from being parsed and executed by the interpreter. These errors are usually detected by the Python interpreter before the program starts running.\n",
    "\n",
    "Here's a summarized difference between exceptions and syntax errors:\n",
    "\n",
    "Exceptions:\n",
    "\n",
    "1)Exceptions occur during the execution of a program.\n",
    "2)They disrupt the normal flow of the program.\n",
    "3)They are caused by runtime issues, such as invalid operations, division by zero, etc.\n",
    "4)Exceptions can be caught and handled using try and except blocks.\n",
    "5)Examples of exception types include TypeError, ValueError, etc.\n",
    "6)Exceptions can be raised explicitly using the raise statement.\n",
    "Syntax Errors:\n",
    "\n",
    "Syntax errors occur before the program starts running, during the parsing phase.\n",
    "1)They prevent the program from being executed.\n",
    "2)They are caused by incorrect syntax or grammar in the code.\n",
    "3)Syntax errors cannot be caught using try and except blocks, as they prevent the code from being executed at all.\n",
    "4)Examples of syntax errors include missing colons, unmatched parentheses, etc.\n",
    "5)Syntax errors need to be fixed by correcting the code according to Python's syntax rules."
   ]
  },
  {
   "cell_type": "markdown",
   "metadata": {},
   "source": [
    "# What happend when an exception is not handeled? explain with an example"
   ]
  },
  {
   "cell_type": "markdown",
   "metadata": {},
   "source": [
    "When an exception is not handled in a program, it leads to what is commonly referred to as an \"unhandled exception\" or \"exception propagation.\" In this scenario, the normal flow of the program is disrupted, and the program terminates prematurely. The Python interpreter prints an error traceback to the console, indicating the type of exception that occurred and the location in the code where the exception was raised."
   ]
  },
  {
   "cell_type": "code",
   "execution_count": 1,
   "metadata": {},
   "outputs": [
    {
     "ename": "ZeroDivisionError",
     "evalue": "division by zero",
     "output_type": "error",
     "traceback": [
      "\u001b[1;31m---------------------------------------------------------------------------\u001b[0m",
      "\u001b[1;31mZeroDivisionError\u001b[0m                         Traceback (most recent call last)",
      "\u001b[1;32m<ipython-input-1-645f7e03d085>\u001b[0m in \u001b[0;36m<module>\u001b[1;34m\u001b[0m\n\u001b[0;32m      2\u001b[0m     \u001b[1;32mreturn\u001b[0m \u001b[0ma\u001b[0m \u001b[1;33m/\u001b[0m \u001b[0mb\u001b[0m\u001b[1;33m\u001b[0m\u001b[1;33m\u001b[0m\u001b[0m\n\u001b[0;32m      3\u001b[0m \u001b[1;33m\u001b[0m\u001b[0m\n\u001b[1;32m----> 4\u001b[1;33m \u001b[0mresult\u001b[0m \u001b[1;33m=\u001b[0m \u001b[0mdivide\u001b[0m\u001b[1;33m(\u001b[0m\u001b[1;36m10\u001b[0m\u001b[1;33m,\u001b[0m \u001b[1;36m0\u001b[0m\u001b[1;33m)\u001b[0m  \u001b[1;31m# This will raise a ZeroDivisionError\u001b[0m\u001b[1;33m\u001b[0m\u001b[1;33m\u001b[0m\u001b[0m\n\u001b[0m\u001b[0;32m      5\u001b[0m \u001b[0mprint\u001b[0m\u001b[1;33m(\u001b[0m\u001b[1;34m\"Result:\"\u001b[0m\u001b[1;33m,\u001b[0m \u001b[0mresult\u001b[0m\u001b[1;33m)\u001b[0m\u001b[1;33m\u001b[0m\u001b[1;33m\u001b[0m\u001b[0m\n",
      "\u001b[1;32m<ipython-input-1-645f7e03d085>\u001b[0m in \u001b[0;36mdivide\u001b[1;34m(a, b)\u001b[0m\n\u001b[0;32m      1\u001b[0m \u001b[1;32mdef\u001b[0m \u001b[0mdivide\u001b[0m\u001b[1;33m(\u001b[0m\u001b[0ma\u001b[0m\u001b[1;33m,\u001b[0m \u001b[0mb\u001b[0m\u001b[1;33m)\u001b[0m\u001b[1;33m:\u001b[0m\u001b[1;33m\u001b[0m\u001b[1;33m\u001b[0m\u001b[0m\n\u001b[1;32m----> 2\u001b[1;33m     \u001b[1;32mreturn\u001b[0m \u001b[0ma\u001b[0m \u001b[1;33m/\u001b[0m \u001b[0mb\u001b[0m\u001b[1;33m\u001b[0m\u001b[1;33m\u001b[0m\u001b[0m\n\u001b[0m\u001b[0;32m      3\u001b[0m \u001b[1;33m\u001b[0m\u001b[0m\n\u001b[0;32m      4\u001b[0m \u001b[0mresult\u001b[0m \u001b[1;33m=\u001b[0m \u001b[0mdivide\u001b[0m\u001b[1;33m(\u001b[0m\u001b[1;36m10\u001b[0m\u001b[1;33m,\u001b[0m \u001b[1;36m0\u001b[0m\u001b[1;33m)\u001b[0m  \u001b[1;31m# This will raise a ZeroDivisionError\u001b[0m\u001b[1;33m\u001b[0m\u001b[1;33m\u001b[0m\u001b[0m\n\u001b[0;32m      5\u001b[0m \u001b[0mprint\u001b[0m\u001b[1;33m(\u001b[0m\u001b[1;34m\"Result:\"\u001b[0m\u001b[1;33m,\u001b[0m \u001b[0mresult\u001b[0m\u001b[1;33m)\u001b[0m\u001b[1;33m\u001b[0m\u001b[1;33m\u001b[0m\u001b[0m\n",
      "\u001b[1;31mZeroDivisionError\u001b[0m: division by zero"
     ]
    }
   ],
   "source": [
    "def divide(a, b):\n",
    "    return a / b\n",
    "\n",
    "result = divide(10, 0)  # This will raise a ZeroDivisionError\n",
    "print(\"Result:\", result)\n"
   ]
  },
  {
   "cell_type": "markdown",
   "metadata": {},
   "source": [
    "In summary, when an exception is not handled, the program terminates unexpectedly, and an error traceback is provided to help diagnose the issue. It's important to handle exceptions appropriately using try and except blocks to prevent crashes and to provide a graceful way of handling unexpected runtime errors."
   ]
  },
  {
   "cell_type": "markdown",
   "metadata": {},
   "source": [
    "# which python statements are used to catch and handle exceptions? explain with an example"
   ]
  },
  {
   "cell_type": "markdown",
   "metadata": {},
   "source": [
    "In Python, you can use the try and except statements to catch and handle exceptions. The try block contains the code that might raise an exception, and the except block contains the code that will be executed if an exception of a specific type is raised. This allows you to gracefully handle exceptions and prevent your program from crashing."
   ]
  },
  {
   "cell_type": "code",
   "execution_count": 2,
   "metadata": {},
   "outputs": [
    {
     "name": "stdout",
     "output_type": "stream",
     "text": [
      "Result: 5.0\n",
      "Error: Cannot divide by zero\n"
     ]
    }
   ],
   "source": [
    "def divide(a, b):\n",
    "    try:\n",
    "        result = a / b\n",
    "    except ZeroDivisionError:\n",
    "        print(\"Error: Cannot divide by zero\")\n",
    "    else:\n",
    "        print(\"Result:\", result)\n",
    "\n",
    "# Test cases\n",
    "divide(10, 2)   # This will print \"Result: 5.0\"\n",
    "divide(10, 0)   # This will print \"Error: Cannot divide by zero\"\n"
   ]
  },
  {
   "cell_type": "markdown",
   "metadata": {},
   "source": [
    "By using try and except, you can handle specific types of exceptions and provide a more controlled response to unexpected situations in your code. You can also catch more general exception types (like Exception) to handle a broader range of errors, but it's generally recommended to catch only the specific exceptions you expect and handle them appropriately."
   ]
  },
  {
   "cell_type": "markdown",
   "metadata": {},
   "source": [
    "# Explain with an example: a)try and else b) finally c)raise"
   ]
  },
  {
   "cell_type": "markdown",
   "metadata": {},
   "source": [
    "a) try, except, and else:\n",
    "\n",
    "The try block is used to enclose the code that might raise an exception. If an exception of the specified type occurs within the try block, the code inside the corresponding except block will be executed. The else block is used to specify code that should be executed if no exception is raised within the try block."
   ]
  },
  {
   "cell_type": "code",
   "execution_count": 3,
   "metadata": {},
   "outputs": [
    {
     "name": "stdout",
     "output_type": "stream",
     "text": [
      "Result: 5.0\n",
      "Error: Cannot divide by zero\n"
     ]
    }
   ],
   "source": [
    "def divide(a, b):\n",
    "    try:\n",
    "        result = a / b\n",
    "    except ZeroDivisionError:\n",
    "        print(\"Error: Cannot divide by zero\")\n",
    "    else:\n",
    "        print(\"Result:\", result)\n",
    "\n",
    "# Test cases\n",
    "divide(10, 2)   # This will print \"Result: 5.0\"\n",
    "divide(10, 0)   # This will print \"Error: Cannot divide by zero\"\n"
   ]
  },
  {
   "cell_type": "markdown",
   "metadata": {},
   "source": [
    "In the example above, the try block attempts to perform the division operation, and if it encounters a ZeroDivisionError, it executes the code in the except block. If no exception is raised, the code in the else block is executed."
   ]
  },
  {
   "cell_type": "markdown",
   "metadata": {},
   "source": [
    "b) finally:\n",
    "\n",
    "The finally block is used to specify code that should be executed regardless of whether an exception occurred within the try block or not. It is often used for cleanup operations that need to be performed, such as closing files or releasing resources."
   ]
  },
  {
   "cell_type": "code",
   "execution_count": 6,
   "metadata": {},
   "outputs": [
    {
     "name": "stdout",
     "output_type": "stream",
     "text": [
      "Error: File not found\n",
      "Finally\n"
     ]
    },
    {
     "ename": "NameError",
     "evalue": "name 'file' is not defined",
     "output_type": "error",
     "traceback": [
      "\u001b[1;31m---------------------------------------------------------------------------\u001b[0m",
      "\u001b[1;31mNameError\u001b[0m                                 Traceback (most recent call last)",
      "\u001b[1;32m<ipython-input-6-b7b3d677e44d>\u001b[0m in \u001b[0;36m<module>\u001b[1;34m\u001b[0m\n\u001b[0;32m      8\u001b[0m \u001b[1;32mfinally\u001b[0m\u001b[1;33m:\u001b[0m\u001b[1;33m\u001b[0m\u001b[1;33m\u001b[0m\u001b[0m\n\u001b[0;32m      9\u001b[0m     \u001b[0mprint\u001b[0m\u001b[1;33m(\u001b[0m\u001b[1;34m\"Finally\"\u001b[0m\u001b[1;33m)\u001b[0m\u001b[1;33m\u001b[0m\u001b[1;33m\u001b[0m\u001b[0m\n\u001b[1;32m---> 10\u001b[1;33m     \u001b[0mfile\u001b[0m\u001b[1;33m.\u001b[0m\u001b[0mclose\u001b[0m\u001b[1;33m(\u001b[0m\u001b[1;33m)\u001b[0m  \u001b[1;31m# This will always execute, even if an exception occurred\u001b[0m\u001b[1;33m\u001b[0m\u001b[1;33m\u001b[0m\u001b[0m\n\u001b[0m",
      "\u001b[1;31mNameError\u001b[0m: name 'file' is not defined"
     ]
    }
   ],
   "source": [
    "try:\n",
    "    file = open(\"example.txt\", \"r\")\n",
    "    content = file.read()\n",
    "except FileNotFoundError:\n",
    "    print(\"Error: File not found\")\n",
    "else:\n",
    "    print(\"File content:\", content)\n",
    "finally:\n",
    "    print(\"Finally\")\n",
    "    file.close()  # This will always execute, even if an exception occurred\n"
   ]
  },
  {
   "cell_type": "markdown",
   "metadata": {},
   "source": [
    "In this example, the try block attempts to open a file for reading, and if it encounters a FileNotFoundError, it executes the code in the except block. If no exception is raised, the code in the else block is executed. Regardless of whether an exception occurred or not, the finally block ensures that the file is closed."
   ]
  },
  {
   "cell_type": "markdown",
   "metadata": {},
   "source": [
    "c) raise:\n",
    "\n",
    "The raise statement is used to explicitly raise an exception in your code. You can raise both built-in exceptions and custom exceptions."
   ]
  },
  {
   "cell_type": "code",
   "execution_count": 7,
   "metadata": {},
   "outputs": [
    {
     "name": "stdout",
     "output_type": "stream",
     "text": [
      "Error: Must be at least 18 years old\n"
     ]
    }
   ],
   "source": [
    "def check_age(age):\n",
    "    if age < 0:\n",
    "        raise ValueError(\"Age cannot be negative\")\n",
    "    if age < 18:\n",
    "        raise ValueError(\"Must be at least 18 years old\")\n",
    "\n",
    "try:\n",
    "    check_age(15)\n",
    "except ValueError as e:\n",
    "    print(\"Error:\", e)\n"
   ]
  },
  {
   "cell_type": "markdown",
   "metadata": {},
   "source": [
    "In this example, the check_age function raises a ValueError with a specific error message if the provided age is negative or less than 18. When calling check_age(15), a ValueError is raised, and it's caught in the except block, where the error message is printed."
   ]
  },
  {
   "cell_type": "markdown",
   "metadata": {},
   "source": [
    "# What are custom exceptions in python? why do we need custom exceptions? exaplain with and example"
   ]
  },
  {
   "cell_type": "markdown",
   "metadata": {},
   "source": [
    "Custom exceptions in Python are user-defined exception classes that allow you to create your own specific exception types to represent different error scenarios in your code. While Python provides a variety of built-in exception classes, creating custom exceptions can make your code more organized, readable, and easier to maintain by providing more meaningful error messages and better structure for handling different types of errors.\n",
    "\n",
    "You might need custom exceptions for the following reasons:\n",
    "\n",
    "Clarity and Readability: Custom exceptions can provide more descriptive error messages that convey the exact nature of the error, making it easier to understand and debug the code.\n",
    "\n",
    "Modularity and Reusability: By creating custom exceptions, you can encapsulate error-handling logic in a single place and reuse it across multiple parts of your codebase.\n",
    "\n",
    "Maintainability: Custom exceptions allow you to distinguish between different error scenarios more effectively, which can make it easier to maintain and enhance your code over time.\n",
    "\n",
    "Categorization: You can create a hierarchy of custom exception classes to categorize different types of errors and handle them at various levels of your application.\n",
    "\n",
    "Here's an example illustrating the creation and use of a custom exception:"
   ]
  },
  {
   "cell_type": "code",
   "execution_count": 8,
   "metadata": {},
   "outputs": [
    {
     "name": "stdout",
     "output_type": "stream",
     "text": [
      "Error: Withdrawal of 1500 is not allowed. Current balance: 1000\n"
     ]
    }
   ],
   "source": [
    "class WithdrawalError(Exception):\n",
    "    \"\"\"Custom exception for withdrawal errors.\"\"\"\n",
    "\n",
    "    def __init__(self, balance, amount):\n",
    "        self.balance = balance\n",
    "        self.amount = amount\n",
    "        super().__init__(f\"Withdrawal of {amount} is not allowed. Current balance: {balance}\")\n",
    "\n",
    "def withdraw(balance, amount):\n",
    "    if amount > balance:\n",
    "        raise WithdrawalError(balance, amount)\n",
    "    return balance - amount\n",
    "\n",
    "try:\n",
    "    account_balance = 1000\n",
    "    withdrawal_amount = 1500\n",
    "    new_balance = withdraw(account_balance, withdrawal_amount)\n",
    "except WithdrawalError as e:\n",
    "    print(\"Error:\", e)\n",
    "else:\n",
    "    print(\"Withdrawal successful. New balance:\", new_balance)\n"
   ]
  },
  {
   "cell_type": "markdown",
   "metadata": {},
   "source": [
    "By using a custom exception, we've created a more expressive and modular way to handle withdrawal errors, making the code easier to understand and maintain. Custom exceptions can be tailored to specific use cases and can greatly improve the error-handling capabilities of your Python programs."
   ]
  },
  {
   "cell_type": "markdown",
   "metadata": {},
   "source": [
    "# create a custom exception class/ Use this class to handle an exception"
   ]
  },
  {
   "cell_type": "code",
   "execution_count": 9,
   "metadata": {},
   "outputs": [
    {
     "name": "stdout",
     "output_type": "stream",
     "text": [
      "Please enter your age: 121\n",
      "Error: Age must be between 0 and 120\n"
     ]
    }
   ],
   "source": [
    "class InvalidInputError(Exception):\n",
    "    \"\"\"Custom exception for invalid user input.\"\"\"\n",
    "\n",
    "    def __init__(self, input_value, message=\"Invalid input\"):\n",
    "        self.input_value = input_value\n",
    "        self.message = message\n",
    "        super().__init__(self.message)\n",
    "\n",
    "def validate_age(age):\n",
    "    if age < 0 or age > 120:\n",
    "        raise InvalidInputError(age, \"Age must be between 0 and 120\")\n",
    "\n",
    "try:\n",
    "    user_age = int(input(\"Please enter your age: \"))\n",
    "    validate_age(user_age)\n",
    "    print(\"Age:\", user_age)\n",
    "except ValueError:\n",
    "    print(\"Error: Invalid input. Please enter a valid integer.\")\n",
    "except InvalidInputError as e:\n",
    "    print(\"Error:\", e)\n"
   ]
  },
  {
   "cell_type": "markdown",
   "metadata": {},
   "source": [
    "By using the custom exception InvalidInputError, we've created a specific way to handle cases of invalid user input, making the code more organized and improving the clarity of the error handling process."
   ]
  },
  {
   "cell_type": "code",
   "execution_count": null,
   "metadata": {},
   "outputs": [],
   "source": []
  }
 ],
 "metadata": {
  "kernelspec": {
   "display_name": "Python 3",
   "language": "python",
   "name": "python3"
  },
  "language_info": {
   "codemirror_mode": {
    "name": "ipython",
    "version": 3
   },
   "file_extension": ".py",
   "mimetype": "text/x-python",
   "name": "python",
   "nbconvert_exporter": "python",
   "pygments_lexer": "ipython3",
   "version": "3.8.5"
  }
 },
 "nbformat": 4,
 "nbformat_minor": 4
}
