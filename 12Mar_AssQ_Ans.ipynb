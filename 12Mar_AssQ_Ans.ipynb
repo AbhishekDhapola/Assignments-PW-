{
 "cells": [
  {
   "cell_type": "markdown",
   "metadata": {},
   "source": [
    "# Q1. Calculate the 95% confidence interval for a sample of data with a mean of 50 and a standard deviation of 5 using Python. Interpret the results."
   ]
  },
  {
   "cell_type": "code",
   "execution_count": null,
   "metadata": {},
   "outputs": [],
   "source": [
    "import numpy as np\n",
    "import scipy.stats as st\n",
    "\n",
    "# Define the sample mean and standard deviation\n",
    "mean = 50\n",
    "std_dev = 5\n",
    "\n",
    "# Calculate the t-value for the 95% confidence level\n",
    "t_value = st.t.ppf(0.95, df=len(data) - 1)\n",
    "\n",
    "# Calculate the margin of error\n",
    "margin_of_error = t_value * std_dev / np.sqrt(len(data))\n",
    "\n",
    "# Calculate the confidence interval\n",
    "confidence_interval = (mean - margin_of_error, mean + margin_of_error)\n",
    "\n",
    "# Print the confidence interval\n",
    "print(confidence_interval)\n"
   ]
  },
  {
   "cell_type": "markdown",
   "metadata": {},
   "source": [
    "# Q2. Conduct a chi-square goodness of fit test to determine if the distribution of colors of M&Ms in a bag matches the expected distribution of 20% blue, 20% orange, 20% green, 10% yellow, 10% red, and 20% brown. Use Python to perform the test with a significance level of 0.05."
   ]
  },
  {
   "cell_type": "code",
   "execution_count": 2,
   "metadata": {},
   "outputs": [
    {
     "name": "stdout",
     "output_type": "stream",
     "text": [
      "Chi-square statistic: Power_divergenceResult(statistic=37.7, pvalue=4.3347125918603627e-07)\n",
      "P-value: 11.070497693516351\n"
     ]
    }
   ],
   "source": [
    "import numpy as np\n",
    "import scipy.stats as st\n",
    "\n",
    "# Define the observed and expected frequencies\n",
    "observed_frequencies = [5, 12, 10, 3, 3, 7]\n",
    "expected_frequencies = [20, 20, 20, 10, 10, 20]\n",
    "\n",
    "# Calculate the chi-square statistic\n",
    "chi_square_statistic = st.chisquare(observed_frequencies, expected_frequencies)\n",
    "\n",
    "# Calculate the p-value\n",
    "p_value = st.chi2.ppf(0.95, df=len(observed_frequencies) - 1)\n",
    "\n",
    "# Print the results\n",
    "print('Chi-square statistic:', chi_square_statistic)\n",
    "print('P-value:', p_value)\n"
   ]
  },
  {
   "cell_type": "markdown",
   "metadata": {},
   "source": [
    "# Q3. Use Python to calculate the chi-square statistic and p-value for a contingency table with the following data:\n",
    "               Group A Group B\n",
    "Outcome1  20 15\n",
    "Outcome2  10 25\n",
    "Outcome3  15 20\n",
    "Interpret the results of the test."
   ]
  },
  {
   "cell_type": "code",
   "execution_count": 3,
   "metadata": {},
   "outputs": [
    {
     "name": "stdout",
     "output_type": "stream",
     "text": [
      "Chi-square statistic: (5.833333333333334, 0.05411376622282158, 2, array([[15., 20.],\n",
      "       [15., 20.],\n",
      "       [15., 20.]]))\n",
      "P-value: 5.991464547107979\n"
     ]
    }
   ],
   "source": [
    "import numpy as np\n",
    "import scipy.stats as st\n",
    "\n",
    "# Define the contingency table\n",
    "contingency_table = np.array([[20, 15], [10, 25], [15, 20]])\n",
    "\n",
    "# Calculate the chi-square statistic\n",
    "chi_square_statistic = st.chi2_contingency(contingency_table)\n",
    "\n",
    "# Calculate the p-value\n",
    "p_value = st.chi2.ppf(0.95, df=contingency_table.shape[0] - 1)\n",
    "\n",
    "# Print the results\n",
    "print('Chi-square statistic:', chi_square_statistic)\n",
    "print('P-value:', p_value)\n"
   ]
  },
  {
   "cell_type": "markdown",
   "metadata": {},
   "source": [
    "# Q4. A study of the prevalence of smoking in a population of 500 individuals found that 60 individuals smoked. Use Python to calculate the 95% confidence interval for the true proportion of individuals in the population who smoke."
   ]
  },
  {
   "cell_type": "code",
   "execution_count": 4,
   "metadata": {},
   "outputs": [
    {
     "name": "stdout",
     "output_type": "stream",
     "text": [
      "(0.09151638887130707, 0.1484836111286929)\n"
     ]
    }
   ],
   "source": [
    "import numpy as np\n",
    "import scipy.stats as st\n",
    "\n",
    "# Number of smokers in the sample\n",
    "smokers = 60\n",
    "\n",
    "# Total number of individuals in the sample\n",
    "population_size = 500\n",
    "\n",
    "# Calculate the sample proportion\n",
    "sample_proportion = smokers / population_size\n",
    "\n",
    "# Calculate the standard error of the sample proportion\n",
    "standard_error = np.sqrt(sample_proportion * (1 - sample_proportion) / population_size)\n",
    "\n",
    "# Calculate the 95% confidence interval\n",
    "confidence_interval = st.norm.interval(0.95, loc=sample_proportion, scale=standard_error)\n",
    "\n",
    "# Print the confidence interval\n",
    "print(confidence_interval)\n"
   ]
  },
  {
   "cell_type": "markdown",
   "metadata": {},
   "source": [
    "# Q5. Calculate the 90% confidence interval for a sample of data with a mean of 75 and a standard deviation of 12 using Python. Interpret the results."
   ]
  },
  {
   "cell_type": "code",
   "execution_count": null,
   "metadata": {},
   "outputs": [],
   "source": [
    "import numpy as np\n",
    "import scipy.stats as st\n",
    "\n",
    "# Define the sample mean and standard deviation\n",
    "mean = 75\n",
    "std_dev = 12\n",
    "\n",
    "# Calculate the t-value for the 90% confidence level\n",
    "t_value = st.t.ppf(0.90, df=len(data) - 1)\n",
    "\n",
    "# Calculate the margin of error\n",
    "margin_of_error = t_value * std_dev / np.sqrt(len(data))\n",
    "\n",
    "# Calculate the confidence interval\n",
    "confidence_interval = (mean - margin_of_error, mean + margin_of_error)\n",
    "\n",
    "# Print the confidence interval\n",
    "print(confidence_interval)\n"
   ]
  },
  {
   "cell_type": "markdown",
   "metadata": {},
   "source": [
    "# Q6. Use Python to plot the chi-square distribution with 10 degrees of freedom. Label the axes and shade the area corresponding to a chi-square statistic of 15."
   ]
  },
  {
   "cell_type": "code",
   "execution_count": 6,
   "metadata": {},
   "outputs": [
    {
     "data": {
      "image/png": "[encoded data removed]",
      "text/plain": [
       "<Figure size 432x288 with 1 Axes>"
      ]
     },
     "metadata": {
      "needs_background": "light"
     },
     "output_type": "display_data"
    }
   ],
   "source": [
    "import numpy as np\n",
    "import scipy.stats as st\n",
    "import matplotlib.pyplot as plt\n",
    "\n",
    "# Define the chi-square distribution\n",
    "chi_square_distribution = st.chi2(df=10)\n",
    "\n",
    "# Generate 10000 samples from the chi-square distribution\n",
    "samples = chi_square_distribution.rvs(10000)\n",
    "\n",
    "# Plot the chi-square distribution\n",
    "plt.hist(samples, bins=20, density=True)\n",
    "plt.xlabel('Chi-square statistic')\n",
    "plt.ylabel('Probability density')\n",
    "\n",
    "# Shade the area corresponding to a chi-square statistic of 15\n",
    "plt.axvspan(15, 100, color='red', alpha=0.5)\n",
    "\n",
    "# Show the plot\n",
    "plt.show()\n"
   ]
  },
  {
   "cell_type": "markdown",
   "metadata": {},
   "source": [
    "# Q7. A random sample of 1000 people was asked if they preferred Coke or Pepsi. Of the sample, 520 preferred Coke. Calculate a 99% confidence interval for the true proportion of people in the population who prefer Coke."
   ]
  },
  {
   "cell_type": "code",
   "execution_count": 7,
   "metadata": {},
   "outputs": [
    {
     "name": "stdout",
     "output_type": "stream",
     "text": [
      "(0.4793051576779699, 0.5606948423220302)\n"
     ]
    }
   ],
   "source": [
    "# Number of people who prefer Coke\n",
    "n_coke = 520\n",
    "\n",
    "# Total number of people\n",
    "n = 1000\n",
    "\n",
    "# Sample proportion\n",
    "p_hat = n_coke / n\n",
    "\n",
    "# Standard error of the sample proportion\n",
    "se = np.sqrt(p_hat * (1 - p_hat) / n)\n",
    "\n",
    "# Calculate the 99% confidence interval\n",
    "confidence_interval = st.norm.interval(0.99, loc=p_hat, scale=se)\n",
    "\n",
    "# Print the confidence interval\n",
    "print(confidence_interval)"
   ]
  },
  {
   "cell_type": "markdown",
   "metadata": {},
   "source": [
    "# Q8. A researcher hypothesizes that a coin is biased towards tails. They flip the coin 100 times and observe 45 tails. Conduct a chi-square goodness of fit test to determine if the observed frequencies match the expected frequencies of a fair coin. Use a significance level of 0.05."
   ]
  },
  {
   "cell_type": "code",
   "execution_count": 8,
   "metadata": {},
   "outputs": [
    {
     "name": "stdout",
     "output_type": "stream",
     "text": [
      "Chi-square statistic: Power_divergenceResult(statistic=1.0, pvalue=0.31731050786291115)\n",
      "P-value: 3.841458820694124\n"
     ]
    }
   ],
   "source": [
    "# Number of trials\n",
    "n_trials = 100\n",
    "\n",
    "# Observed frequencies\n",
    "observed_frequencies = [45, 55]\n",
    "\n",
    "# Expected frequencies (assuming a fair coin)\n",
    "expected_frequencies = [50, 50]\n",
    "\n",
    "# Calculate the chi-square statistic\n",
    "chi_square_statistic = st.chisquare(observed_frequencies, expected_frequencies)\n",
    "\n",
    "# Calculate the p-value\n",
    "p_value = st.chi2.ppf(0.95, df=1)\n",
    "\n",
    "# Print the results\n",
    "print('Chi-square statistic:', chi_square_statistic)\n",
    "print('P-value:', p_value)"
   ]
  },
  {
   "cell_type": "markdown",
   "metadata": {},
   "source": [
    "# Q9. A study was conducted to determine if there is an association between smoking status (smoker or non-smoker) and lung cancer diagnosis (yes or no). The results are shown in the contingency table below.\n",
    "Conduct a chi-square test for independence to determine if there is a significant association between\n",
    "smoking status and lung cancer diagnosis. \n",
    "        Lung Cancer: Yes Lung Cancer: No\n",
    "Smoker 60 140\n",
    "Non-smoker 30 170\n",
    "Use a significance level of 0.05."
   ]
  },
  {
   "cell_type": "code",
   "execution_count": 9,
   "metadata": {},
   "outputs": [
    {
     "name": "stdout",
     "output_type": "stream",
     "text": [
      "Chi-square statistic: (12.057347670250895, 0.0005158863863703744, 1, array([[ 45., 155.],\n",
      "       [ 45., 155.]]))\n",
      "P-value: 3.841458820694124\n"
     ]
    }
   ],
   "source": [
    "# Smoking status\n",
    "smoking_status = ['Smoker', 'Non-smoker']\n",
    "\n",
    "# Lung cancer diagnosis\n",
    "lung_cancer_diagnosis = ['Yes', 'No']\n",
    "\n",
    "# Observed frequencies\n",
    "observed_frequencies = np.array([[60, 140], [30, 170]])\n",
    "\n",
    "# Calculate the chi-square statistic\n",
    "chi_square_statistic = st.chi2_contingency(observed_frequencies)\n",
    "\n",
    "# Calculate the p-value\n",
    "p_value = st.chi2.ppf(0.95, df=observed_frequencies.shape[0] - 1)\n",
    "\n",
    "# Print the results\n",
    "print('Chi-square statistic:', chi_square_statistic)\n",
    "print('P-value:', p_value)\n"
   ]
  },
  {
   "cell_type": "markdown",
   "metadata": {},
   "source": [
    "# Q10. A study was conducted to determine if the proportion of people who prefer milk chocolate, darkchocolate, or white chocolate is different in the U.S. versus the U.K. A random sample of 500 people fro\n",
    "mthe U.S. and a random sample of 500 people from the U.K. were surveyed. The results are shown in the contingency table below. Conduct a chi-square test for independence to determine if there is a significant\n",
    "association between chocolate preference and country of origin.                                                               \n",
    "                    Milk Chocolate Dark Chocolate White Chocolate\n",
    "\n",
    "U.S. (n=500) 200 150 150\n",
    "U.K. (n=500) 225 175 100\n",
    "Use a significance level of 0.01."
   ]
  },
  {
   "cell_type": "code",
   "execution_count": 10,
   "metadata": {},
   "outputs": [
    {
     "name": "stdout",
     "output_type": "stream",
     "text": [
      "Chi-square statistic: (13.393665158371041, 0.0012348168997745918, 2, array([[212.5, 162.5, 125. ],\n",
      "       [212.5, 162.5, 125. ]]))\n",
      "P-value: 6.6348966010212145\n"
     ]
    }
   ],
   "source": [
    "# Chocolate preference\n",
    "chocolate_preference = ['Milk Chocolate', 'Dark Chocolate', 'White Chocolate']\n",
    "\n",
    "# Country of origin\n",
    "country_of_origin = ['U.S.', 'U.K.']\n",
    "\n",
    "# Observed frequencies\n",
    "observed_frequencies = np.array([[200, 150, 150], [225, 175, 100]])\n",
    "\n",
    "# Calculate the chi-square statistic\n",
    "chi_square_statistic = st.chi2_contingency(observed_frequencies)\n",
    "\n",
    "# Calculate the p-value\n",
    "p_value = st.chi2.ppf(0.99, df=observed_frequencies.shape[0] - 1)\n",
    "\n",
    "# Print the results\n",
    "print('Chi-square statistic:', chi_square_statistic)\n",
    "print('P-value:', p_value)\n"
   ]
  },
  {
   "cell_type": "markdown",
   "metadata": {},
   "source": [
    "# Q11. A random sample of 30 people was selected from a population with an unknown mean and standard deviation. The sample mean was found to be 72 and the sample standard deviation was found to be 10. Conduct a hypothesis test to determine if the population mean is significantly different from 70. Use a significance level of 0.05."
   ]
  },
  {
   "cell_type": "code",
   "execution_count": null,
   "metadata": {},
   "outputs": [],
   "source": [
    "# Null hypothesis: The population mean is equal to 70.\n",
    "# Alternative hypothesis: The population mean is not equal to 70.\n",
    "\n",
    "# Significance level: 0.05\n",
    "\n",
    "# Sample mean: 72\n",
    "\n",
    "# Sample standard deviation: 10\n",
    "\n",
    "# Test statistic:\n",
    "t_statistic = (sample_mean - population_mean) / (sample_standard_deviation / np.sqrt(sample_size))\n",
    "\n",
    "# P-value:\n",
    "p_value = st.t.cdf(t_statistic, df=sample_size - 1)\n",
    "\n",
    "# Conclusion:\n",
    "if p_value < significance_level:\n",
    "     print('Reject the null hypothesis.')\n",
    "else:\n",
    "     print('Fail to reject the null hypothesis.')"
   ]
  },
  {
   "cell_type": "code",
   "execution_count": null,
   "metadata": {},
   "outputs": [],
   "source": []
  }
 ],
 "metadata": {
  "kernelspec": {
   "display_name": "Python 3",
   "language": "python",
   "name": "python3"
  },
  "language_info": {
   "codemirror_mode": {
    "name": "ipython",
    "version": 3
   },
   "file_extension": ".py",
   "mimetype": "text/x-python",
   "name": "python",
   "nbconvert_exporter": "python",
   "pygments_lexer": "ipython3",
   "version": "3.8.5"
  }
 },
 "nbformat": 4,
 "nbformat_minor": 4
}
