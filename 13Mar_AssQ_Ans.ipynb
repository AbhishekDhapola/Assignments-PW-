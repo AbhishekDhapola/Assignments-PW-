{
 "cells": [
  {
   "cell_type": "markdown",
   "metadata": {},
   "source": [
    "# Q1. Explain the assumptions required to use ANOVA and provide examples of violations that could impact the validity of the results"
   ]
  },
  {
   "cell_type": "markdown",
   "metadata": {},
   "source": [
    "Assumptions for using ANOVA include:\n",
    "\n",
    "Independence: Observations are independent within and between groups.\n",
    "Normality: The residuals (differences between observed and predicted values) are normally distributed within each group.\n",
    "Homogeneity of Variance: The variances of the residuals are approximately equal across all groups.\n",
    "Violations of these assumptions can impact the validity of ANOVA results:\n",
    "\n",
    "Independence violation: If observations are not independent, it can lead to biased results. For example, repeated measurements on the same subjects without accounting for the dependence.\n",
    "Normality violation: If residuals aren't normally distributed, it can lead to incorrect p-values and confidence intervals. This can occur if the data is heavily skewed or contains outliers.\n",
    "Homogeneity of Variance violation: Unequal variances can affect the F-test's reliability and can lead to incorrect conclusions. This might happen when groups have different levels of variability."
   ]
  },
  {
   "cell_type": "markdown",
   "metadata": {},
   "source": [
    "# Q2. What are the three types of ANOVA, and in what situations would each be used?"
   ]
  },
  {
   "cell_type": "markdown",
   "metadata": {},
   "source": [
    "There are three types of ANOVA:\n",
    "\n",
    "One-Way ANOVA: Used when comparing means across multiple independent groups.\n",
    "Two-Way ANOVA: Used when there are two independent variables (factors) affecting the dependent variable, and we want to study the main effects and interaction effects.\n",
    "Repeated Measures ANOVA: Used when the same subjects are used for all treatment conditions (within-subject design)."
   ]
  },
  {
   "cell_type": "markdown",
   "metadata": {},
   "source": [
    "# Q3. What is the partitioning of variance in ANOVA, and why is it important to understand this concept?"
   ]
  },
  {
   "cell_type": "markdown",
   "metadata": {},
   "source": [
    "The variance in data can be divided into three components: Total Variance (SST), Explained Variance (SSE), and Residual Variance (SSR). Understanding this partitioning helps determine the proportion of variability explained by the model and the unexplained variability."
   ]
  },
  {
   "cell_type": "markdown",
   "metadata": {},
   "source": [
    "# Q4. How would you calculate the total sum of squares (SST), explained sum of squares (SSE), and residual sum of squares (SSR) in a one-way ANOVA using Python?"
   ]
  },
  {
   "cell_type": "code",
   "execution_count": null,
   "metadata": {},
   "outputs": [],
   "source": [
    "\n"
   ]
  },
  {
   "cell_type": "code",
   "execution_count": null,
   "metadata": {},
   "outputs": [],
   "source": [
    "\n",
    "def one_way_anova(data):\n",
    "        n = len(data)\n",
    "        k = len(data[0])\n",
    "        mean = np.mean(data)\n",
    "\n",
    "      # Calculate the total sum of squares\n",
    "        SST = np.sum((data - mean)**2)\n",
    "\n",
    "        # Calculate the explained sum of squares\n",
    "        SSE = 0\n",
    "        for group in data:\n",
    "            x_bar_group = np.mean(group)\n",
    "            SSE += np.sum((group - x_bar_group)**2)\n",
    "\n",
    "     # Calculate the residual sum of squares\n",
    "        SSR = SST - SSE\n",
    "\n",
    "    return SST, SSE, SSR"
   ]
  },
  {
   "cell_type": "markdown",
   "metadata": {},
   "source": [
    "data = [[5, 10, 15], [20, 30, 40], [10, 20, 30]]\n",
    "\n",
    "SST, SSE, SSR = one_way_anova(data)\n",
    "\n",
    "print(\"SST:\", SST)\n",
    "print(\"SSE:\", SSE)\n",
    "print(\"SSR:\", SSR)"
   ]
  },
  {
   "cell_type": "markdown",
   "metadata": {},
   "source": [
    "# Q5. In a two-way ANOVA, how would you calculate the main effects and interaction effects using Python"
   ]
  },
  {
   "cell_type": "markdown",
   "metadata": {},
   "source": [
    "For main effects and interaction effects, you would typically perform a more advanced analysis such as using a library like statsmodels or scipy."
   ]
  },
  {
   "cell_type": "markdown",
   "metadata": {},
   "source": [
    "# Q6. Suppose you conducted a one-way ANOVA and obtained an F-statistic of 5.23 and a p-value of 0.02. What can you conclude about the differences between the groups, and how would you interpret these\n",
    "results?"
   ]
  },
  {
   "cell_type": "markdown",
   "metadata": {},
   "source": [
    "An F-statistic of 5.23 and a p-value of 0.02 indicate that there are significant differences between at least some of the groups' means. However, it doesn't provide specific information about which groups are different."
   ]
  },
  {
   "cell_type": "markdown",
   "metadata": {},
   "source": [
    "# Q7. In a repeated measures ANOVA, how would you handle missing data, and what are the potential consequences of using different methods to handle missing data?"
   ]
  },
  {
   "cell_type": "markdown",
   "metadata": {},
   "source": [
    "Handling missing data can involve techniques like mean imputation, interpolation, or using specialized methods like mixed-effects models. Different methods can lead to different biases, impacting the validity of results."
   ]
  },
  {
   "cell_type": "markdown",
   "metadata": {},
   "source": [
    "# Q8. What are some common post-hoc tests used after ANOVA, and when would you use each one? Provide an example of a situation where a post-hoc test might be necessary."
   ]
  },
  {
   "cell_type": "markdown",
   "metadata": {},
   "source": [
    "Post-hoc tests, like Tukey's HSD, Bonferroni, or Scheffe, are used to identify specific group differences after significant ANOVA results. They help avoid Type I errors in multiple comparisons."
   ]
  },
  {
   "cell_type": "markdown",
   "metadata": {},
   "source": [
    "# Q9. A researcher wants to compare the mean weight loss of three diets: A, B, and C. They collect data from 50 participants who were randomly assigned to one of the diets. Conduct a one-way ANOVA using Python to determine if there are any significant differences between the mean weight loss of the three diets.Report the F-statistic and p-value, and interpret the results."
   ]
  },
  {
   "cell_type": "code",
   "execution_count": 13,
   "metadata": {},
   "outputs": [
    {
     "name": "stdout",
     "output_type": "stream",
     "text": [
      "F-statistic: 12.297297297297296\n",
      "p-value: 0.0012433283447848308\n"
     ]
    }
   ],
   "source": [
    "import numpy as np\n",
    "import scipy.stats as stats\n",
    "\n",
    "# Create the data\n",
    "diet_a = np.array([10, 12, 15, 18, 20])\n",
    "diet_b = np.array([5, 7, 9, 11, 13])\n",
    "diet_c = np.array([0, 2, 4, 6, 8])\n",
    "\n",
    "# Conduct the ANOVA\n",
    "F, p = stats.f_oneway(diet_a, diet_b, diet_c)\n",
    "\n",
    "# Print the results\n",
    "print(\"F-statistic:\", F)\n",
    "print(\"p-value:\", p)\n",
    "\n"
   ]
  },
  {
   "cell_type": "markdown",
   "metadata": {},
   "source": [
    "# Q10. A company wants to know if there are any significant differences in the average time it takes to complete a task using three different software programs: Program A, Program B, and Program C. They randomly assign 30 employees to one of the programs and record the time it takes each employee to complete the task. Conduct a two-way ANOVA using Python to determine if there are any main effects or interaction effects between the software programs and employee experience level (novice vs experienced). Report the F-statistics and p-values, and interpret the results."
   ]
  },
  {
   "cell_type": "code",
   "execution_count": null,
   "metadata": {},
   "outputs": [],
   "source": [
    "import numpy as np\n",
    "import scipy.stats as stats\n",
    "\n",
    "# Create the data\n",
    "program = np.array([\"A\", \"B\", \"C\", \"A\", \"B\", \"C\", \"A\", \"B\", \"C\", \"A\", \"B\", \"C\"])\n",
    "experience = np.array([\"novice\", \"novice\", \"novice\", \"experienced\", \"experienced\", \"experienced\", \"novice\", \"experienced\", \"experienced\", \"novice\", \"experienced\", \"experienced\"])\n",
    "time = np.array([10, 12, 15, 18, 20, 22, 5, 7, 9, 11, 13, 15])\n",
    "\n",
    "# Conduct the ANOVA\n",
    "F, p, _, _ = stats.f_twoway(time, program, experience)\n",
    "\n",
    "# Print the results\n",
    "print(\"F-statistic for program:\", F[0])\n",
    "print(\"p-value for program:\", p[0])\n",
    "print(\"F-statistic for experience:\", F[1])\n",
    "print(\"p-value for experience:\", p[1])\n",
    "print(\"F-statistic for interaction:\", F[2])\n",
    "print(\"p-value for interaction:\", p[2])\n"
   ]
  },
  {
   "cell_type": "markdown",
   "metadata": {},
   "source": [
    "# Q11. An educational researcher is interested in whether a new teaching method improves student test scores. They randomly assign 100 students to either the control group (traditional teaching method) or the experimental group (new teaching method) and administer a test at the end of the semester. Conduct a two-sample t-test using Python to determine if there are any significant differences in test scores between the two groups. If the results are significant, follow up with a post-hoc test to determine which group(s) differ significantly from each other."
   ]
  },
  {
   "cell_type": "code",
   "execution_count": null,
   "metadata": {},
   "outputs": [],
   "source": [
    "import numpy as np\n",
    "import scipy.stats as stats\n",
    "\n",
    "# Create the data\n",
    "control_group_scores = np.array([75, 80, 85, 90, 95])\n",
    "experimental_group_scores = np.array([65, 70, 75, 80, 85])\n",
    "\n",
    "# Conduct the t-test\n",
    "t, p = stats.ttest_ind(control_group_scores, experimental_group_scores)\n",
    "\n",
    "# Print the results\n",
    "print(\"t-statistic:\", t)\n",
    "print(\"p-value:\", p)\n",
    "\n",
    "# If the results are significant, conduct a post-hoc test\n",
    "if p < 0.05:\n",
    "  # Perform Tukey's test\n",
    "  post_hoc_results = stats.posthoc_ttest(control_group_scores, experimental_group_scores, method=\"tukey\")\n",
    "\n",
    "  # Print the results of the post-hoc test\n",
    "  print(\"Post-hoc results:\")\n",
    "  print(post_hoc_results)\n"
   ]
  },
  {
   "cell_type": "markdown",
   "metadata": {},
   "source": [
    "# Q12. A researcher wants to know if there are any significant differences in the average daily sales of three retail stores: Store A, Store B, and Store C. They randomly select 30 days and record the sales for each store on those days. Conduct a repeated measures ANOVA using Python to determine if there are any significant differences in sales between the three stores. If the results are significant, follow up with a post- hoc test to determine which store(s) differ significantly from each other."
   ]
  },
  {
   "cell_type": "code",
   "execution_count": null,
   "metadata": {},
   "outputs": [],
   "source": [
    "import numpy as np\n",
    "import scipy.stats as stats\n",
    "\n",
    "# Create the data\n",
    "store = np.array([\"A\", \"A\", \"A\", \"A\", \"A\", \"A\", \"B\", \"B\", \"B\", \"B\", \"B\", \"B\", \"C\", \"C\", \"C\", \"C\", \"C\", \"C\"])\n",
    "sales = np.array([100, 120, 150, 180, 200, 220, 50, 70, 90, 110, 130, 150, 60, 80, 100, 120, 140, 160])\n",
    "\n",
    "# Conduct the repeated measures ANOVA\n",
    "F, p = stats.f_oneway(sales, store)\n",
    "\n",
    "# Print the results\n",
    "print(\"F-statistic:\", F)\n",
    "print(\"p-value:\", p)\n",
    "\n",
    "# If the results are significant, conduct a post-hoc test\n",
    "if p < 0.05:\n",
    "  # Perform Tukey's test\n",
    "  post_hoc_results = stats.posthoc_ttest(sales, store, method=\"tukey\")\n",
    "\n",
    "  # Print the results of the post-hoc test\n",
    "  print(\"Post-hoc results:\")\n",
    "  print(post_hoc_results)\n"
   ]
  }
 ],
 "metadata": {
  "kernelspec": {
   "display_name": "Python 3",
   "language": "python",
   "name": "python3"
  },
  "language_info": {
   "codemirror_mode": {
    "name": "ipython",
    "version": 3
   },
   "file_extension": ".py",
   "mimetype": "text/x-python",
   "name": "python",
   "nbconvert_exporter": "python",
   "pygments_lexer": "ipython3",
   "version": "3.8.5"
  }
 },
 "nbformat": 4,
 "nbformat_minor": 4
}
