{
 "cells": [
  {
   "cell_type": "markdown",
   "metadata": {},
   "source": [
    "# What is multithreading in python? Why is it used? Name the module used to handle threads in python"
   ]
  },
  {
   "cell_type": "markdown",
   "metadata": {},
   "source": [
    "Multithreading in Python refers to the concurrent execution of multiple threads within a single process. A thread is the smallest unit of execution within a program, and multithreading allows you to run multiple threads concurrently, sharing the same resources like memory space, file handles, etc. This is different from multiprocessing, where multiple processes run independently.\n",
    "\n",
    "Multithreading is used to achieve better parallelism, especially in situations where certain tasks can be executed concurrently, such as performing I/O operations (like reading/writing files or making network requests) or when dealing with tasks that involve waiting for external events. It can improve the overall efficiency and responsiveness of a program by allowing it to continue execution even when one thread is blocked.\n",
    "\n",
    "In Python, the threading module is commonly used to handle threads. This module provides classes and functions to create, manage, and synchronize threads. The threading module wraps the lower-level _thread module and provides a higher-level interface for working with threads. It allows you to create and manage threads, provides synchronization mechanisms like locks, events, and semaphores to manage thread safety, and facilitates coordination between threads."
   ]
  },
  {
   "cell_type": "markdown",
   "metadata": {},
   "source": [
    "# Why threading module used? rite the use of the following functions:\n",
    "1. activeCount()\n",
    "2. currentThread()\n",
    "3.  enumerate()"
   ]
  },
  {
   "cell_type": "markdown",
   "metadata": {},
   "source": [
    "The threading module in Python is used for creating and managing threads within a single process. It provides a high-level interface for working with threads and offers various functions and classes to control thread execution and synchronization.\n",
    "\n",
    "Here's the use of the functions you mentioned from the threading module:\n",
    "\n",
    "activeCount(): This function returns the number of Thread objects currently alive. It provides a count of the active threads in the current program.\n",
    "\n",
    "Example:"
   ]
  },
  {
   "cell_type": "code",
   "execution_count": 2,
   "metadata": {},
   "outputs": [
    {
     "name": "stdout",
     "output_type": "stream",
     "text": [
      "Thread is running.\n",
      "Thread is running.\n",
      "Active threads: 6\n"
     ]
    }
   ],
   "source": [
    "import threading\n",
    "\n",
    "def worker():\n",
    "    print(\"Thread is running.\")\n",
    "\n",
    "thread1 = threading.Thread(target=worker)\n",
    "thread2 = threading.Thread(target=worker)\n",
    "\n",
    "thread1.start()\n",
    "thread2.start()\n",
    "\n",
    "print(\"Active threads:\", threading.activeCount())\n"
   ]
  },
  {
   "cell_type": "markdown",
   "metadata": {},
   "source": [
    "currentThread(): This function returns the current Thread object corresponding to the caller's thread. It's often used to identify the thread that's currently executing.\n",
    "\n",
    "Example:"
   ]
  },
  {
   "cell_type": "code",
   "execution_count": 3,
   "metadata": {},
   "outputs": [
    {
     "name": "stdout",
     "output_type": "stream",
     "text": [
      "Current thread name: Thread-1\n",
      "Current thread name: Thread-2\n"
     ]
    }
   ],
   "source": [
    "import threading\n",
    "\n",
    "def print_thread_name():\n",
    "    current_thread = threading.currentThread()\n",
    "    print(\"Current thread name:\", current_thread.name)\n",
    "\n",
    "thread1 = threading.Thread(target=print_thread_name, name=\"Thread-1\")\n",
    "thread2 = threading.Thread(target=print_thread_name, name=\"Thread-2\")\n",
    "\n",
    "thread1.start()\n",
    "thread2.start()\n"
   ]
  },
  {
   "cell_type": "markdown",
   "metadata": {},
   "source": [
    "enumerate(): This function returns a list of all currently active Thread objects. It can be used to iterate over all active threads and perform operations on them.\n",
    "\n",
    "Example:"
   ]
  },
  {
   "cell_type": "code",
   "execution_count": 4,
   "metadata": {},
   "outputs": [
    {
     "name": "stdout",
     "output_type": "stream",
     "text": [
      "Thread name: MainThread\n",
      "Thread name: Thread-4\n",
      "Thread name: Thread-5\n",
      "Thread name: IPythonHistorySavingThread\n",
      "Thread name: Thread-3\n",
      "Thread name: Thread-10\n",
      "Thread name: Thread-11\n",
      "Thread is done.\n",
      "Thread is done.\n"
     ]
    }
   ],
   "source": [
    "import threading\n",
    "import time\n",
    "\n",
    "def worker():\n",
    "    time.sleep(2)\n",
    "    print(\"Thread is done.\")\n",
    "\n",
    "thread1 = threading.Thread(target=worker)\n",
    "thread2 = threading.Thread(target=worker)\n",
    "\n",
    "thread1.start()\n",
    "thread2.start()\n",
    "\n",
    "time.sleep(1)\n",
    "\n",
    "active_threads = threading.enumerate()\n",
    "for thread in active_threads:\n",
    "    print(\"Thread name:\", thread.name)\n",
    "\n",
    "thread1.join()\n",
    "thread2.join()\n"
   ]
  },
  {
   "cell_type": "markdown",
   "metadata": {},
   "source": [
    "# 3. Explain the following functions\n",
    "run\n",
    " start\n",
    " join\n",
    " isAlive"
   ]
  },
  {
   "cell_type": "markdown",
   "metadata": {},
   "source": [
    "run(): This method defines the code that will be executed when a Thread object is started. It's the entry point for the thread's execution. You can override this method in a custom thread class to provide the specific behavior you want the thread to perform.\n",
    "\n",
    "Example:"
   ]
  },
  {
   "cell_type": "code",
   "execution_count": 5,
   "metadata": {},
   "outputs": [
    {
     "name": "stdout",
     "output_type": "stream",
     "text": [
      "Thread is running.\n"
     ]
    }
   ],
   "source": [
    "import threading\n",
    "\n",
    "class MyThread(threading.Thread):\n",
    "    def run(self):\n",
    "        print(\"Thread is running.\")\n",
    "\n",
    "thread = MyThread()\n",
    "thread.start()  # This will automatically call the run() method.\n"
   ]
  },
  {
   "cell_type": "markdown",
   "metadata": {},
   "source": [
    "start(): This method is used to initiate the execution of a thread. It creates a new operating system-level thread and calls the run() method of the thread. The thread will then start executing the code specified in the run() method concurrently with other threads in the program.\n",
    "\n",
    "Example:"
   ]
  },
  {
   "cell_type": "code",
   "execution_count": 6,
   "metadata": {},
   "outputs": [
    {
     "name": "stdout",
     "output_type": "stream",
     "text": [
      "Thread is running.\n"
     ]
    }
   ],
   "source": [
    "import threading\n",
    "\n",
    "def worker():\n",
    "    print(\"Thread is running.\")\n",
    "\n",
    "thread = threading.Thread(target=worker)\n",
    "thread.start()  # Initiates the execution of the thread.\n"
   ]
  },
  {
   "cell_type": "markdown",
   "metadata": {},
   "source": [
    "join(): This method is used to wait for a thread to complete its execution before proceeding further in the main program. When the join() method is called on a thread, the main thread (or the calling thread) will block until the target thread finishes executing.\n",
    "\n",
    "Example:"
   ]
  },
  {
   "cell_type": "code",
   "execution_count": 7,
   "metadata": {},
   "outputs": [
    {
     "name": "stdout",
     "output_type": "stream",
     "text": [
      "Thread is running.\n",
      "Thread has finished.\n"
     ]
    }
   ],
   "source": [
    "import threading\n",
    "\n",
    "def worker():\n",
    "    print(\"Thread is running.\")\n",
    "\n",
    "thread = threading.Thread(target=worker)\n",
    "thread.start()\n",
    "\n",
    "thread.join()  # Wait for the thread to finish before continuing.\n",
    "print(\"Thread has finished.\")\n"
   ]
  },
  {
   "cell_type": "markdown",
   "metadata": {},
   "source": [
    "isAlive(): This method returns a Boolean value indicating whether a thread is currently active (i.e., executing) or has finished its execution. It returns True if the thread is still running and False otherwise.\n",
    "\n",
    "Example:"
   ]
  },
  {
   "cell_type": "code",
   "execution_count": 8,
   "metadata": {},
   "outputs": [
    {
     "name": "stderr",
     "output_type": "stream",
     "text": [
      "<ipython-input-8-24f0de0b38ca>:10: DeprecationWarning: isAlive() is deprecated, use is_alive() instead\n",
      "  print(\"Thread is alive:\", thread.isAlive())  # True\n"
     ]
    },
    {
     "name": "stdout",
     "output_type": "stream",
     "text": [
      "Thread is alive: True\n",
      "Thread is alive: False\n"
     ]
    },
    {
     "name": "stderr",
     "output_type": "stream",
     "text": [
      "<ipython-input-8-24f0de0b38ca>:12: DeprecationWarning: isAlive() is deprecated, use is_alive() instead\n",
      "  print(\"Thread is alive:\", thread.isAlive())  # False\n"
     ]
    }
   ],
   "source": [
    "import threading\n",
    "import time\n",
    "\n",
    "def worker():\n",
    "    time.sleep(2)\n",
    "\n",
    "thread = threading.Thread(target=worker)\n",
    "thread.start()\n",
    "\n",
    "print(\"Thread is alive:\", thread.isAlive())  # True\n",
    "thread.join()\n",
    "print(\"Thread is alive:\", thread.isAlive())  # False\n"
   ]
  },
  {
   "cell_type": "markdown",
   "metadata": {},
   "source": [
    "# Write a python program to create two threads. Thread one must print the list of squares and thread two must print the list of cubes"
   ]
  },
  {
   "cell_type": "code",
   "execution_count": 9,
   "metadata": {},
   "outputs": [
    {
     "name": "stdout",
     "output_type": "stream",
     "text": [
      "Square of 1: 1\n",
      "Square of 2: 4\n",
      "Square of 3: 9\n",
      "Square of 4: 16\n",
      "Square of 5: 25\n",
      "Cube of 1: 1\n",
      "Cube of 2: 8\n",
      "Cube of 3: 27\n",
      "Cube of 4: 64\n",
      "Cube of 5: 125\n",
      "Both threads have finished.\n"
     ]
    }
   ],
   "source": [
    "import threading\n",
    "\n",
    "def print_squares(numbers):\n",
    "    for num in numbers:\n",
    "        print(f\"Square of {num}: {num**2}\")\n",
    "\n",
    "def print_cubes(numbers):\n",
    "    for num in numbers:\n",
    "        print(f\"Cube of {num}: {num**3}\")\n",
    "\n",
    "if __name__ == \"__main__\":\n",
    "    numbers = [1, 2, 3, 4, 5]\n",
    "\n",
    "    thread1 = threading.Thread(target=print_squares, args=(numbers,))\n",
    "    thread2 = threading.Thread(target=print_cubes, args=(numbers,))\n",
    "\n",
    "    thread1.start()\n",
    "    thread2.start()\n",
    "\n",
    "    thread1.join()\n",
    "    thread2.join()\n",
    "\n",
    "    print(\"Both threads have finished.\")\n"
   ]
  },
  {
   "cell_type": "markdown",
   "metadata": {},
   "source": [
    "# State advantages and disadvantages of multithreading"
   ]
  },
  {
   "cell_type": "markdown",
   "metadata": {},
   "source": [
    "Multithreading offers several advantages and disadvantages, depending on the context and the specific requirements of a program. Here are some of the key advantages and disadvantages of multithreading:\n",
    "\n",
    "Advantages of Multithreading:\n",
    "\n",
    "Concurrency: Multithreading enables concurrent execution of tasks, allowing multiple threads to run simultaneously. This can lead to improved program responsiveness and efficiency, especially in situations where tasks can be performed concurrently, such as I/O-bound operations.\n",
    "\n",
    "Resource Sharing: Threads within the same process share the same memory space, which allows for efficient data sharing and communication between threads. This can lead to reduced memory overhead compared to separate processes.\n",
    "\n",
    "Responsiveness: Multithreading can enhance the overall responsiveness of an application by allowing it to continue executing other tasks while one thread is blocked or waiting for a resource.\n",
    "\n",
    "Faster Task Execution: In certain scenarios, multithreading can lead to faster execution times, especially when dealing with parallelizable tasks such as data processing, image manipulation, and simulations.\n",
    "\n",
    "Context Switching: Threads are lighter weight than processes, and context switching between threads is generally faster than switching between processes, which can lead to better overall performance.\n",
    "\n",
    "Modularity: Multithreading can help modularize a program's functionality, making it easier to manage and maintain complex applications.\n",
    "\n",
    "Disadvantages of Multithreading:\n",
    "\n",
    "Complexity: Multithreaded programs can be more complex to design, implement, and debug due to potential race conditions, deadlocks, and synchronization issues.\n",
    "\n",
    "Synchronization Overhead: Synchronizing access to shared resources among threads can introduce overhead and complexity. Locking mechanisms can lead to contention and reduced performance in some cases.\n",
    "\n",
    "Race Conditions: When multiple threads access shared resources simultaneously without proper synchronization, race conditions can occur, leading to unpredictable and incorrect behavior.\n",
    "\n",
    "Deadlocks: Deadlocks can happen when threads are waiting for each other to release resources, causing the program to come to a standstill.\n",
    "\n",
    "Thread Safety: Ensuring thread safety and avoiding data corruption in multithreaded environments requires careful design and synchronization mechanisms, which can add complexity and reduce development speed.\n",
    "\n",
    "Limited Parallelism in Python (CPython): In Python, the Global Interpreter Lock (GIL) can limit the effectiveness of multithreading for CPU-bound tasks, as only one thread can execute Python bytecode at a time in CPython. This means that, for CPU-bound operations, true parallelism is often better achieved using multiprocessing.\n",
    "\n",
    "In conclusion, multithreading can provide significant benefits in terms of concurrency, responsiveness, and efficient resource sharing, particularly for I/O-bound tasks. However, it also introduces complexities and challenges related to synchronization and thread safety. Careful consideration of the advantages and disadvantages, as well as understanding the specific requirements of your program, is essential when deciding whether to use multithreading."
   ]
  },
  {
   "cell_type": "markdown",
   "metadata": {},
   "source": [
    "# Explain deadlocks and race conditions."
   ]
  },
  {
   "cell_type": "markdown",
   "metadata": {},
   "source": [
    "Deadlocks and race conditions are two common concurrency-related problems that can occur in multithreaded or multi-process programs.\n",
    "\n",
    "Deadlocks:\n",
    "\n",
    "A deadlock occurs when two or more threads or processes are unable to proceed with their execution because each is waiting for the other to release a resource. In other words, they are stuck in a circular wait situation, and no thread can make progress. Deadlocks can bring a program to a standstill, causing it to become unresponsive.\n",
    "\n",
    "There are four necessary conditions for a deadlock to occur, known as the \"deadlock conditions\":\n",
    "\n",
    "Mutual Exclusion: At least one resource is non-sharable, and only one thread can access it at a time.\n",
    "Hold and Wait: A thread holds one resource and is waiting to acquire another while keeping the first resource.\n",
    "No Preemption: Resources cannot be forcibly taken away from a thread; they can only be released voluntarily.\n",
    "Circular Wait: A circular chain of threads is waiting for resources held by others in the chain.\n",
    "To prevent deadlocks, strategies such as proper resource allocation order, deadlock detection, and deadlock recovery mechanisms can be employed.\n",
    "\n",
    "Race Conditions:\n",
    "\n",
    "A race condition occurs when the behavior of a program depends on the relative timing of events, such as the execution order of threads or processes. It can lead to unpredictable and undesirable outcomes when multiple threads access shared resources concurrently without proper synchronization.\n",
    "\n",
    "Race conditions can manifest in various ways:\n",
    "\n",
    "Read-Modify-Write Operations: When multiple threads read, modify, and write shared data simultaneously, the final value may not be as expected due to interleaved execution.\n",
    "\n",
    "Unintended Shared State: When multiple threads access shared variables or data structures without proper synchronization, they may overwrite or modify each other's changes unexpectedly.\n",
    "\n",
    "Timing-Dependent Issues: The outcome of a program may vary based on the precise timing of thread execution, leading to inconsistent or incorrect results.\n",
    "\n",
    "Synchronization mechanisms like locks, semaphores, and mutexes can be used to prevent race conditions by ensuring that only one thread can access a shared resource at a time. Proper synchronization ensures that threads coordinate their access to shared resources and avoid conflicting interactions.\n",
    "\n",
    "In summary, deadlocks and race conditions are critical concurrency issues that can lead to unexpected and undesired behavior in multithreaded or multi-process programs. Understanding these concepts and employing proper synchronization techniques is essential for building robust and reliable concurrent applications.\n",
    "\n",
    "\n",
    "\n",
    "\n"
   ]
  },
  {
   "cell_type": "code",
   "execution_count": null,
   "metadata": {},
   "outputs": [],
   "source": []
  }
 ],
 "metadata": {
  "kernelspec": {
   "display_name": "Python 3",
   "language": "python",
   "name": "python3"
  },
  "language_info": {
   "codemirror_mode": {
    "name": "ipython",
    "version": 3
   },
   "file_extension": ".py",
   "mimetype": "text/x-python",
   "name": "python",
   "nbconvert_exporter": "python",
   "pygments_lexer": "ipython3",
   "version": "3.8.5"
  }
 },
 "nbformat": 4,
 "nbformat_minor": 4
}
