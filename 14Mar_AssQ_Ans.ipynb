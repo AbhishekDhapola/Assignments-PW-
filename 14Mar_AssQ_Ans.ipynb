{
 "cells": [
  {
   "cell_type": "markdown",
   "metadata": {},
   "source": [
    "# Q1. Write a Python function that takes in two arrays of data and calculates the F-value for a variance ratio test. The function should return the F-value and the corresponding p-value for the test."
   ]
  },
  {
   "cell_type": "code",
   "execution_count": 1,
   "metadata": {},
   "outputs": [
    {
     "name": "stdout",
     "output_type": "stream",
     "text": [
      "F-value: 1.578358208955224\n",
      "p-value: 0.6691743859813566\n"
     ]
    }
   ],
   "source": [
    "import numpy as np\n",
    "from scipy.stats import f\n",
    "\n",
    "def variance_ratio_test(arr1, arr2):\n",
    "    n1 = len(arr1)\n",
    "    n2 = len(arr2)\n",
    "    \n",
    "    var1 = np.var(arr1, ddof=1)\n",
    "    var2 = np.var(arr2, ddof=1)\n",
    "    \n",
    "    F = var1 / var2 if var1 > var2 else var2 / var1\n",
    "    df1 = n1 - 1\n",
    "    df2 = n2 - 1\n",
    "    \n",
    "    p_value = 2 * min(f.cdf(F, df1, df2), 1 - f.cdf(F, df1, df2))\n",
    "    \n",
    "    return F, p_value\n",
    "\n",
    "# Example usage\n",
    "data1 = [15, 18, 22, 27, 31]\n",
    "data2 = [12, 14, 16, 20, 25]\n",
    "\n",
    "F_value, p_value = variance_ratio_test(data1, data2)\n",
    "print(\"F-value:\", F_value)\n",
    "print(\"p-value:\", p_value)\n"
   ]
  },
  {
   "cell_type": "markdown",
   "metadata": {},
   "source": [
    "# Q2. Given a significance level of 0.05 and the degrees of freedom for the numerator and denominator of an F-distribution, write a Python function that returns the critical F-value for a two-tailed test."
   ]
  },
  {
   "cell_type": "code",
   "execution_count": 2,
   "metadata": {},
   "outputs": [
    {
     "name": "stdout",
     "output_type": "stream",
     "text": [
      "Critical F-value: 4.236085668188633\n"
     ]
    }
   ],
   "source": [
    "from scipy.stats import f\n",
    "\n",
    "def critical_f_value(alpha, df1, df2):\n",
    "    return f.ppf(1 - alpha / 2, df1, df2)\n",
    "\n",
    "# Example usage\n",
    "alpha = 0.05\n",
    "numerator_df = 5\n",
    "denominator_df = 10\n",
    "critical_f = critical_f_value(alpha, numerator_df, denominator_df)\n",
    "print(\"Critical F-value:\", critical_f)\n"
   ]
  },
  {
   "cell_type": "markdown",
   "metadata": {},
   "source": [
    "# Q3. Write a Python program that generates random samples from two normal distributions with known variances and uses an F-test to determine if the variances are equal. The program should output the F-value, degrees of freedom, and p-value for the test."
   ]
  },
  {
   "cell_type": "code",
   "execution_count": 9,
   "metadata": {},
   "outputs": [
    {
     "name": "stdout",
     "output_type": "stream",
     "text": [
      "F-value: 1.9362975102882223\n",
      "Degrees of freedom: 49 59\n",
      "p-value: 0.01562737258558\n"
     ]
    }
   ],
   "source": [
    "import numpy as np\n",
    "from scipy.stats import f\n",
    "\n",
    "def f_test_for_variance(sample1, sample2):\n",
    "    n1 = len(sample1)\n",
    "    n2 = len(sample2)\n",
    "    \n",
    "    var1 = np.var(sample1, ddof=1)\n",
    "    var2 = np.var(sample2, ddof=1)\n",
    "    \n",
    "    F = var1 / var2 if var1 > var2 else var2 / var1\n",
    "    df1 = n1 - 1\n",
    "    df2 = n2 - 1\n",
    "    \n",
    "    p_value = 2 * min(f.cdf(F, df1, df2), 1 - f.cdf(F, df1, df2))\n",
    "    \n",
    "    return F, df1, df2, p_value\n",
    "\n",
    "# Generate random samples from normal distributions\n",
    "np.random.seed(42)\n",
    "sample1 = np.random.normal(loc=0, scale=1, size=50)\n",
    "sample2 = np.random.normal(loc=0, scale=1.5, size=60)\n",
    "\n",
    "F_value, df1, df2, p_value = f_test_for_variance(sample1, sample2)\n",
    "print(\"F-value:\", F_value)\n",
    "print(\"Degrees of freedom:\", df1, df2)\n",
    "print(\"p-value:\", p_value)\n"
   ]
  },
  {
   "cell_type": "markdown",
   "metadata": {},
   "source": [
    "# Q4.The variances of two populations are known to be 10 and 15. A sample of 12 observations is taken from each population. Conduct an F-test at the 5% significance level to determine if the variances are significantly different."
   ]
  },
  {
   "cell_type": "code",
   "execution_count": 3,
   "metadata": {},
   "outputs": [
    {
     "name": "stdout",
     "output_type": "stream",
     "text": [
      "Fail to reject null hypothesis: Variances are not significantly different.\n",
      "F-value: 1.5\n",
      "p-value: 0.5123897987357995\n",
      "Critical F-value: 3.473699051085809\n"
     ]
    }
   ],
   "source": [
    "from scipy.stats import f\n",
    "\n",
    "variance_pop1 = 10\n",
    "variance_pop2 = 15\n",
    "n1 = n2 = 12\n",
    "alpha = 0.05\n",
    "\n",
    "F = variance_pop1 / variance_pop2 if variance_pop1 > variance_pop2 else variance_pop2 / variance_pop1\n",
    "df1 = n1 - 1\n",
    "df2 = n2 - 1\n",
    "\n",
    "p_value = 2 * min(f.cdf(F, df1, df2), 1 - f.cdf(F, df1, df2))\n",
    "\n",
    "critical_F = f.ppf(1 - alpha / 2, df1, df2)\n",
    "\n",
    "if F > critical_F:\n",
    "    print(\"Reject null hypothesis: Variances are significantly different.\")\n",
    "else:\n",
    "    print(\"Fail to reject null hypothesis: Variances are not significantly different.\")\n",
    "\n",
    "print(\"F-value:\", F)\n",
    "print(\"p-value:\", p_value)\n",
    "print(\"Critical F-value:\", critical_F)\n"
   ]
  },
  {
   "cell_type": "markdown",
   "metadata": {},
   "source": [
    "# Q5. A manufacturer claims that the variance of the diameter of a certain product is 0.005. A sample of 25 products is taken, and the sample variance is found to be 0.006. Conduct an F-test at the 1% significance level to determine if the claim is justified."
   ]
  },
  {
   "cell_type": "code",
   "execution_count": 4,
   "metadata": {},
   "outputs": [
    {
     "name": "stdout",
     "output_type": "stream",
     "text": [
      "Fail to reject null hypothesis: Claimed variance is justified.\n",
      "F-value: 1.2\n",
      "p-value: 0.6587309365634488\n",
      "Critical F-value: 2.966741631292762\n"
     ]
    }
   ],
   "source": [
    "from scipy.stats import f\n",
    "\n",
    "claimed_variance = 0.005\n",
    "sample_variance = 0.006\n",
    "n = 25\n",
    "alpha = 0.01\n",
    "\n",
    "F = sample_variance / claimed_variance\n",
    "df1 = n - 1\n",
    "df2 = n - 1\n",
    "\n",
    "p_value = 2 * min(f.cdf(F, df1, df2), 1 - f.cdf(F, df1, df2))\n",
    "\n",
    "critical_F = f.ppf(1 - alpha / 2, df1, df2)\n",
    "\n",
    "if F > critical_F:\n",
    "    print(\"Reject null hypothesis: Claimed variance is not justified.\")\n",
    "else:\n",
    "    print(\"Fail to reject null hypothesis: Claimed variance is justified.\")\n",
    "\n",
    "print(\"F-value:\", F)\n",
    "print(\"p-value:\", p_value)\n",
    "print(\"Critical F-value:\", critical_F)\n"
   ]
  },
  {
   "cell_type": "markdown",
   "metadata": {},
   "source": [
    "# Q6. Write a Python function that takes in the degrees of freedom for the numerator and denominator of an F-distribution and calculates the mean and variance of the distribution. The function should return the mean and variance as a tuple."
   ]
  },
  {
   "cell_type": "code",
   "execution_count": 5,
   "metadata": {},
   "outputs": [
    {
     "name": "stdout",
     "output_type": "stream",
     "text": [
      "Mean: 1.25\n",
      "Variance: 1.3541666666666667\n"
     ]
    }
   ],
   "source": [
    "def f_distribution_stats(df1, df2):\n",
    "    if df2 <= 2:\n",
    "        raise ValueError(\"The second degree of freedom should be greater than 2.\")\n",
    "    \n",
    "    mean = df2 / (df2 - 2)\n",
    "    variance = (2 * (df2 ** 2) * (df1 + df2 - 2)) / (df1 * (df2 - 2) ** 2 * (df2 - 4))\n",
    "    \n",
    "    return mean, variance\n",
    "\n",
    "# Example usage\n",
    "numerator_df = 5\n",
    "denominator_df = 10\n",
    "mean, variance = f_distribution_stats(numerator_df, denominator_df)\n",
    "print(\"Mean:\", mean)\n",
    "print(\"Variance:\", variance)\n"
   ]
  },
  {
   "cell_type": "markdown",
   "metadata": {},
   "source": [
    "# Q7. A random sample of 10 measurements is taken from a normal population with unknown variance. The sample variance is found to be 25. Another random sample of 15 measurements is taken from another normal population with unknown variance, and the sample variance is found to be 20. Conduct an F-test at the 10% significance level to determine if the variances are significantly different."
   ]
  },
  {
   "cell_type": "code",
   "execution_count": 6,
   "metadata": {},
   "outputs": [
    {
     "name": "stdout",
     "output_type": "stream",
     "text": [
      "Fail to reject null hypothesis: Variances are not significantly different.\n",
      "F-value: 1.25\n",
      "p-value: 0.6832194382585954\n",
      "Critical F-value: 2.6457907352338195\n"
     ]
    }
   ],
   "source": [
    "from scipy.stats import f\n",
    "\n",
    "sample_variance1 = 25\n",
    "sample_variance2 = 20\n",
    "n1 = 10\n",
    "n2 = 15\n",
    "alpha = 0.10\n",
    "\n",
    "F = sample_variance1 / sample_variance2 if sample_variance1 > sample_variance2 else sample_variance2 / sample_variance1\n",
    "df1 = n1 - 1\n",
    "df2 = n2 - 1\n",
    "\n",
    "p_value = 2 * min(f.cdf(F, df1, df2), 1 - f.cdf(F, df1, df2))\n",
    "\n",
    "critical_F = f.ppf(1 - alpha / 2, df1, df2)\n",
    "\n",
    "if F > critical_F:\n",
    "    print(\"Reject null hypothesis: Variances are significantly different.\")\n",
    "else:\n",
    "    print(\"Fail to reject null hypothesis: Variances are not significantly different.\")\n",
    "\n",
    "print(\"F-value:\", F)\n",
    "print(\"p-value:\", p_value)\n",
    "print(\"Critical F-value:\", critical_F)\n"
   ]
  },
  {
   "cell_type": "markdown",
   "metadata": {},
   "source": [
    "# Q8. The following data represent the waiting times in minutes at two different restaurants on a Saturday night: Restaurant A: 24, 25, 28, 23, 22, 20, 27; Restaurant B: 31, 33, 35, 30, 32, 36. Conduct an F-test at the 5% significance level to determine if the variances are significantly different."
   ]
  },
  {
   "cell_type": "code",
   "execution_count": 7,
   "metadata": {},
   "outputs": [
    {
     "name": "stdout",
     "output_type": "stream",
     "text": [
      "Fail to reject null hypothesis: Variances are not significantly different.\n",
      "F-value: 1.4551907719609583\n",
      "p-value: 0.6974815747937484\n",
      "Critical F-value: 6.977701858535566\n"
     ]
    }
   ],
   "source": [
    "from scipy.stats import f\n",
    "\n",
    "restaurant_a_times = [24, 25, 28, 23, 22, 20, 27]\n",
    "restaurant_b_times = [31, 33, 35, 30, 32, 36]\n",
    "alpha = 0.05\n",
    "\n",
    "variance_a = np.var(restaurant_a_times, ddof=1)\n",
    "variance_b = np.var(restaurant_b_times, ddof=1)\n",
    "n_a = len(restaurant_a_times)\n",
    "n_b = len(restaurant_b_times)\n",
    "\n",
    "F = variance_a / variance_b if variance_a > variance_b else variance_b / variance_a\n",
    "df1 = n_a - 1\n",
    "df2 = n_b - 1\n",
    "\n",
    "p_value = 2 * min(f.cdf(F, df1, df2), 1 - f.cdf(F, df1, df2))\n",
    "\n",
    "critical_F = f.ppf(1 - alpha / 2, df1, df2)\n",
    "\n",
    "if F > critical_F:\n",
    "    print(\"Reject null hypothesis: Variances are significantly different.\")\n",
    "else:\n",
    "    print(\"Fail to reject null hypothesis: Variances are not significantly different.\")\n",
    "\n",
    "print(\"F-value:\", F)\n",
    "print(\"p-value:\", p_value)\n",
    "print(\"Critical F-value:\", critical_F)\n"
   ]
  },
  {
   "cell_type": "markdown",
   "metadata": {},
   "source": [
    "# Q9. The following data represent the test scores of two groups of students: Group A: 80, 85, 90, 92, 87, 83; Group B: 75, 78, 82, 79, 81, 84. Conduct an F-test at the 1% significance level to determine if the variances are significantly different."
   ]
  },
  {
   "cell_type": "code",
   "execution_count": 8,
   "metadata": {},
   "outputs": [
    {
     "name": "stdout",
     "output_type": "stream",
     "text": [
      "Fail to reject null hypothesis: Variances are not significantly different.\n",
      "F-value: 1.9442622950819677\n",
      "p-value: 0.4831043549070688\n",
      "Critical F-value: 14.939605459912224\n"
     ]
    }
   ],
   "source": [
    "from scipy.stats import f\n",
    "\n",
    "group_a_scores = [80, 85, 90, 92, 87, 83]\n",
    "group_b_scores = [75, 78, 82, 79, 81, 84]\n",
    "alpha = 0.01\n",
    "\n",
    "variance_a = np.var(group_a_scores, ddof=1)\n",
    "variance_b = np.var(group_b_scores, ddof=1)\n",
    "n_a = len(group_a_scores)\n",
    "n_b = len(group_b_scores)\n",
    "\n",
    "F = variance_a / variance_b if variance_a > variance_b else variance_b / variance_a\n",
    "df1 = n_a - 1\n",
    "df2 = n_b - 1\n",
    "\n",
    "p_value = 2 * min(f.cdf(F, df1, df2), 1 - f.cdf(F, df1, df2))\n",
    "\n",
    "critical_F = f.ppf(1 - alpha / 2, df1, df2)\n",
    "\n",
    "if F > critical_F:\n",
    "    print(\"Reject null hypothesis: Variances are significantly different.\")\n",
    "else:\n",
    "    print(\"Fail to reject null hypothesis: Variances are not significantly different.\")\n",
    "\n",
    "print(\"F-value:\", F)\n",
    "print(\"p-value:\", p_value)\n",
    "print(\"Critical F-value:\", critical_F)\n"
   ]
  },
  {
   "cell_type": "code",
   "execution_count": null,
   "metadata": {},
   "outputs": [],
   "source": []
  }
 ],
 "metadata": {
  "kernelspec": {
   "display_name": "Python 3",
   "language": "python",
   "name": "python3"
  },
  "language_info": {
   "codemirror_mode": {
    "name": "ipython",
    "version": 3
   },
   "file_extension": ".py",
   "mimetype": "text/x-python",
   "name": "python",
   "nbconvert_exporter": "python",
   "pygments_lexer": "ipython3",
   "version": "3.8.5"
  }
 },
 "nbformat": 4,
 "nbformat_minor": 4
}
