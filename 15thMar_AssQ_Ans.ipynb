{
 "cells": [
  {
   "cell_type": "markdown",
   "metadata": {},
   "source": [
    "# Q1"
   ]
  },
  {
   "cell_type": "markdown",
   "metadata": {},
   "source": [
    "a) Artificial Intelligence (AI):\n",
    "Artificial Intelligence refers to the simulation of human intelligence processes by machines, especially computer systems. AI enables machines to perform tasks that typically require human intelligence, such as understanding natural language, recognizing patterns, solving complex problems, and making decisions. AI can be categorized into narrow AI (specialized tasks) and general AI (human-like intelligence).\n",
    "\n",
    "Example: Virtual personal assistants like Siri, Alexa, and Google Assistant use AI to understand and respond to user commands, providing information and performing tasks.\n",
    "\n",
    "b) Machine Learning (ML):\n",
    "Machine Learning is a subset of AI that involves the use of algorithms to enable systems to learn and improve from experience (data) without being explicitly programmed. ML algorithms can recognize patterns in data and make predictions or decisions based on those patterns.\n",
    "\n",
    "Example: A spam email filter learns to identify spam messages based on labeled examples of spam and non-spam emails, improving its accuracy over time.\n",
    "\n",
    "c) Deep Learning (DL):\n",
    "Deep Learning is a subfield of machine learning that involves neural networks with multiple layers. These networks are designed to automatically learn hierarchical representations of data, allowing them to capture intricate patterns and features from raw input.\n",
    "\n",
    "Example: Convolutional Neural Networks (CNNs) are used in image recognition tasks. They can learn to detect features like edges, textures, and shapes in images, enabling accurate image classification."
   ]
  },
  {
   "cell_type": "markdown",
   "metadata": {},
   "source": [
    "# Q2 - Supervised Learning:"
   ]
  },
  {
   "cell_type": "markdown",
   "metadata": {},
   "source": [
    "Supervised learning is a machine learning paradigm where the algorithm learns from labeled training data, meaning the input data is paired with corresponding output labels. The goal is for the algorithm to learn a mapping between inputs and outputs so that it can make accurate predictions on new, unseen data. Examples of supervised learning include:\n",
    "\n",
    "Image Classification: Given an image, predict the object present in the image (e.g., cat, dog).\n",
    "Spam Email Detection: Classify emails as spam or not spam based on their content.\n",
    "Sentiment Analysis: Determine the sentiment (positive, negative, neutral) of a given text."
   ]
  },
  {
   "cell_type": "markdown",
   "metadata": {},
   "source": [
    "# Q3 - Unsupervised Learning:"
   ]
  },
  {
   "cell_type": "markdown",
   "metadata": {},
   "source": [
    "Unsupervised learning involves training a model on unlabeled data, without any explicit output labels. The goal is often to find patterns, relationships, or structure within the data. Examples of unsupervised learning include:\n",
    "\n",
    "Clustering: Grouping similar data points together (e.g., customer segmentation based on buying behavior).\n",
    "Dimensionality Reduction: Reducing the number of features while retaining meaningful information (e.g., Principal Component Analysis).\n",
    "Anomaly Detection: Identifying data points that deviate significantly from the norm."
   ]
  },
  {
   "cell_type": "markdown",
   "metadata": {},
   "source": [
    "# Q4 - Difference between AI, ML, DL, and DS:"
   ]
  },
  {
   "cell_type": "markdown",
   "metadata": {},
   "source": [
    "AI (Artificial Intelligence): The broader concept of creating machines capable of intelligent behavior.\n",
    "ML (Machine Learning): A subset of AI that involves algorithms learning patterns from data and improving their performance over time.\n",
    "DL (Deep Learning): A subfield of machine learning that uses neural networks with multiple layers to model complex patterns.\n",
    "DS (Data Science): The interdisciplinary field that involves extracting insights and knowledge from data using various techniques, including AI and ML."
   ]
  },
  {
   "cell_type": "markdown",
   "metadata": {},
   "source": [
    "# Q5 - Differences between Supervised, Unsupervised, and Semi-Supervised Learning:"
   ]
  },
  {
   "cell_type": "markdown",
   "metadata": {},
   "source": [
    "Supervised Learning uses labeled data for training, while Unsupervised Learning uses unlabeled data. Semi-Supervised Learning is a combination of both, where the algorithm learns from a mix of labeled and unlabeled data.\n",
    "Supervised Learning aims to predict labels or outputs, Unsupervised Learning focuses on finding patterns, and Semi-Supervised Learning combines both aspects.\n",
    "In Supervised Learning, the algorithm's performance can be directly measured by how well it predicts labels. In Unsupervised Learning, evaluation can be more challenging since there are no ground truth labels."
   ]
  },
  {
   "cell_type": "markdown",
   "metadata": {},
   "source": [
    "# Q6 - Training, Test, and Validation Split:"
   ]
  },
  {
   "cell_type": "markdown",
   "metadata": {},
   "source": [
    "These terms refer to how the dataset is divided for model development and evaluation:\n",
    "\n",
    "Training Set: The data used to train the model.\n",
    "Validation Set: A separate subset used to tune model hyperparameters and assess performance during training.\n",
    "Test Set: A final, unseen dataset used to evaluate the model's generalization to new data.\n",
    "Proper split and validation help prevent overfitting (the model becoming too specialized to the training data) and ensure the model's performance on new data."
   ]
  },
  {
   "cell_type": "markdown",
   "metadata": {},
   "source": [
    "# Q7 - Unsupervised Learning in Anomaly Detection:"
   ]
  },
  {
   "cell_type": "markdown",
   "metadata": {},
   "source": [
    "Unsupervised learning can be used for anomaly detection by identifying data points that significantly deviate from the normal patterns within the unlabeled data. Techniques like clustering or autoencoders can help detect unusual behavior."
   ]
  },
  {
   "cell_type": "markdown",
   "metadata": {},
   "source": [
    "# Q8 - Commonly Used Algorithms:"
   ]
  },
  {
   "cell_type": "markdown",
   "metadata": {},
   "source": [
    "Supervised Learning Algorithms:\n",
    "\n",
    "Linear Regression\n",
    "Decision Trees\n",
    "Random Forest\n",
    "Support Vector Machines\n",
    "Neural Networks (Deep Learning)\n",
    "Unsupervised Learning Algorithms:\n",
    "\n",
    "K-Means Clustering\n",
    "Hierarchical Clustering\n",
    "Principal Component Analysis (PCA)\n",
    "Autoencoders (for anomaly detection)\n",
    "Gaussian Mixture Models"
   ]
  },
  {
   "cell_type": "code",
   "execution_count": null,
   "metadata": {},
   "outputs": [],
   "source": []
  }
 ],
 "metadata": {
  "kernelspec": {
   "display_name": "Python 3",
   "language": "python",
   "name": "python3"
  },
  "language_info": {
   "codemirror_mode": {
    "name": "ipython",
    "version": 3
   },
   "file_extension": ".py",
   "mimetype": "text/x-python",
   "name": "python",
   "nbconvert_exporter": "python",
   "pygments_lexer": "ipython3",
   "version": "3.8.5"
  }
 },
 "nbformat": 4,
 "nbformat_minor": 4
}
