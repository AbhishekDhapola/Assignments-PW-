{
 "cells": [
  {
   "cell_type": "markdown",
   "metadata": {},
   "source": [
    "# Q1. What is a database? Differentiate between SQL and NoSQL databases."
   ]
  },
  {
   "cell_type": "markdown",
   "metadata": {},
   "source": [
    "A database is a structured collection of data that is organized and managed for efficient storage, retrieval, and manipulation. It serves as a centralized repository for various types of data, allowing users and applications to interact with the data in a controlled and organized manner.\n",
    "\n",
    "SQL (Structured Query Language) and NoSQL (Not Only SQL) are two main types of database management systems:\n",
    "\n",
    "SQL databases:\n",
    "\n",
    "Structured and use a predefined schema.\n",
    "Use tabular format for data representation (rows and columns).\n",
    "Ensure data integrity and support ACID transactions.\n",
    "Examples: MySQL, PostgreSQL, Oracle.\n",
    "NoSQL databases:\n",
    "\n",
    "Schema-less or have flexible schemas.\n",
    "Use various data models, like key-value, document, column-family, graph.\n",
    "Designed for scalability and high performance.\n",
    "Examples: MongoDB (document-based), Cassandra (column-family), Redis (key-value)."
   ]
  },
  {
   "cell_type": "markdown",
   "metadata": {},
   "source": [
    "# Q2. What is DDL? Explain why CREATE, DROP, ALTER, and TRUNCATE are used with an example."
   ]
  },
  {
   "cell_type": "markdown",
   "metadata": {},
   "source": [
    "DDL (Data Definition Language) is a subset of SQL used to define, modify, and manage the structure of database objects such as tables, indexes, and constraints.\n",
    "\n",
    "CREATE: Used to create new database objects. Example: CREATE TABLE Employees (ID INT, Name VARCHAR(50));\n",
    "\n",
    "DROP: Used to delete database objects. Example: DROP TABLE Employees;\n",
    "\n",
    "ALTER: Used to modify existing database objects. Example: ALTER TABLE Employees ADD COLUMN Age INT;\n",
    "\n",
    "TRUNCATE: Used to remove all rows from a table, but keep the table structure. Example: TRUNCATE TABLE Employees;"
   ]
  },
  {
   "cell_type": "markdown",
   "metadata": {},
   "source": [
    "# Q3. What is DML? Explain INSERT, UPDATE, and DELETE with an example."
   ]
  },
  {
   "cell_type": "markdown",
   "metadata": {},
   "source": [
    "DML (Data Manipulation Language) is used to manipulate the data stored in the database.\n",
    "\n",
    "INSERT: Used to add new rows to a table. Example: INSERT INTO Employees (ID, Name, Age) VALUES (1, 'John', 25);\n",
    "\n",
    "UPDATE: Used to modify existing data in a table. Example: UPDATE Employees SET Age = 26 WHERE Name = 'John';\n",
    "\n",
    "DELETE: Used to remove rows from a table. Example: DELETE FROM Employees WHERE Name = 'John';"
   ]
  },
  {
   "cell_type": "markdown",
   "metadata": {},
   "source": [
    "# Q4. What is DQL? Explain SELECT with an example."
   ]
  },
  {
   "cell_type": "markdown",
   "metadata": {},
   "source": [
    "DQL (Data Query Language) is used to retrieve data from a database.\n",
    "\n",
    "SELECT: Used to retrieve data from one or more tables. Example: SELECT Name, Age FROM Employees WHERE Age > 25;"
   ]
  },
  {
   "cell_type": "markdown",
   "metadata": {},
   "source": [
    "# Q5. Explain Primary Key and Foreign Key."
   ]
  },
  {
   "cell_type": "markdown",
   "metadata": {},
   "source": [
    "Primary Key: A primary key is a unique identifier for a row in a table. It ensures each row's uniqueness and serves as a reference point for relationships between tables.\n",
    "\n",
    "Foreign Key: A foreign key is a column or set of columns in a table that refers to the primary key of another table. It establishes a relationship between two tables, enforcing referential integrity."
   ]
  },
  {
   "cell_type": "markdown",
   "metadata": {},
   "source": [
    "# Q6. Write a python code to connect MySQL to python. Explain the cursor() and execute() method."
   ]
  },
  {
   "cell_type": "code",
   "execution_count": 15,
   "metadata": {},
   "outputs": [
    {
     "name": "stdout",
     "output_type": "stream",
     "text": [
      "<mysql.connector.connection.MySQLConnection object at 0x016CCEC8>\n",
      "('abhishek',)\n",
      "('information_schema',)\n",
      "('mysql',)\n",
      "('performance_schema',)\n",
      "('sakila',)\n",
      "('sys',)\n",
      "('test',)\n",
      "('test1',)\n",
      "('world',)\n"
     ]
    }
   ],
   "source": [
    "import mysql.connector\n",
    "\n",
    "# Connect to MySQL database\n",
    "conn = mysql.connector.connect(\n",
    "    host=\"localhost\",\n",
    "    user=\"root\",\n",
    "    password=\"root\",\n",
    "    database=\"test\"\n",
    ")\n",
    "print(conn)\n",
    "# Create a cursor\n",
    "cursor = conn.cursor()\n",
    "cursor.execute(\"SHOW DATABASES\")\n",
    "for x in cursor:\n",
    "     print(x)\n",
    "# Execute an SQL query\n",
    "query = \"SELECT * FROM test_table;\"\n",
    "cursor.execute(query)\n",
    "\n",
    "# Fetch and print the results\n",
    "results = cursor.fetchall()\n",
    "for row in results:\n",
    "    print(row)\n",
    "\n",
    "# Close the cursor and connection\n",
    "cursor.close()\n",
    "conn.close()\n"
   ]
  },
  {
   "cell_type": "code",
   "execution_count": 16,
   "metadata": {},
   "outputs": [
    {
     "name": "stdout",
     "output_type": "stream",
     "text": [
      "('abhishek',)\n",
      "('information_schema',)\n",
      "('mysql',)\n",
      "('performance_schema',)\n",
      "('sakila',)\n",
      "('sys',)\n",
      "('test',)\n",
      "('test1',)\n",
      "('test2',)\n",
      "('world',)\n"
     ]
    }
   ],
   "source": [
    "conn = mysql.connector.connect(\n",
    "    host=\"localhost\",\n",
    "    user=\"root\",\n",
    "    password=\"root\",\n",
    "    database=\"test\"\n",
    ")\n",
    "cursor = conn.cursor()\n",
    "cursor.execute(\"CREATE DATABASE if not exists test2;\")\n",
    "cursor.execute(\"SHOW DATABASES\")\n",
    "for x in cursor:\n",
    "     print(x)"
   ]
  },
  {
   "cell_type": "markdown",
   "metadata": {},
   "source": [
    "cursor() Method:\n",
    "\n",
    "The cursor() method is used to create a cursor object, which allows you to interact with the database.\n",
    "The cursor acts as a pointer that you use to navigate through the result set of a query and perform various database operations.\n",
    "You use the cursor object to execute SQL statements, fetch data, and manage transactions.\n",
    "execute() Method:\n",
    "\n",
    "The execute() method is used to execute SQL queries or statements through the cursor object.\n",
    "It takes an SQL query as its argument and sends it to the database for execution.\n",
    "After executing the query, you can use methods like fetchone(), fetchall(), or fetchmany() on the cursor object to retrieve the results."
   ]
  },
  {
   "cell_type": "markdown",
   "metadata": {},
   "source": [
    "# Q7. Give the order of execution of SQL clauses in an SQL query."
   ]
  },
  {
   "cell_type": "markdown",
   "metadata": {},
   "source": [
    "The order of execution for an SQL query is as follows:\n",
    "\n",
    "FROM\n",
    "WHERE\n",
    "GROUP BY\n",
    "HAVING\n",
    "SELECT\n",
    "DISTINCT\n",
    "ORDER BY\n",
    "LIMIT/OFFSET"
   ]
  },
  {
   "cell_type": "code",
   "execution_count": null,
   "metadata": {},
   "outputs": [],
   "source": []
  }
 ],
 "metadata": {
  "kernelspec": {
   "display_name": "Python 3",
   "language": "python",
   "name": "python3"
  },
  "language_info": {
   "codemirror_mode": {
    "name": "ipython",
    "version": 3
   },
   "file_extension": ".py",
   "mimetype": "text/x-python",
   "name": "python",
   "nbconvert_exporter": "python",
   "pygments_lexer": "ipython3",
   "version": "3.8.5"
  }
 },
 "nbformat": 4,
 "nbformat_minor": 4
}
