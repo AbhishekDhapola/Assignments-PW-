{
 "cells": [
  {
   "cell_type": "markdown",
   "metadata": {},
   "source": [
    "# Q1. What is MongoDB? Explain non-relational databases in short. In which scenarios it is preferred to useMongoDB over SQL databases?"
   ]
  },
  {
   "cell_type": "markdown",
   "metadata": {},
   "source": [
    "MongoDB: MongoDB is a popular open-source, NoSQL (non-relational) database management system that stores data in flexible, JSON-like documents. It is designed to handle large volumes of unstructured or semi-structured data, making it suitable for a variety of applications including web and mobile applications, content management systems, real-time analytics, and more.\n",
    "\n",
    "Non-relational databases: Non-relational databases, also known as NoSQL databases, are databases that do not use the traditional tabular schema used by relational databases (SQL databases). Instead, they use different data models, such as key-value, document, column-family, or graph, to store and manage data. They offer greater flexibility and scalability for certain types of applications.\n",
    "\n",
    "Scenarios to prefer MongoDB over SQL databases:\n",
    "\n",
    "When dealing with large volumes of unstructured or semi-structured data, such as social media posts, sensor data, logs, etc.\n",
    "Agile development where schema changes are frequent and need to be accommodated easily.\n",
    "When horizontal scalability and distributed architecture are important.\n",
    "Rapid development and prototyping due to flexible schema design.\n",
    "Real-time analytics and data-driven applications."
   ]
  },
  {
   "cell_type": "markdown",
   "metadata": {},
   "source": [
    "# Q2. State and Explain the features of MongoDB."
   ]
  },
  {
   "cell_type": "markdown",
   "metadata": {},
   "source": [
    "MongoDB offers several key features, including:\n",
    "\n",
    "Document-Oriented: Stores data in JSON-like BSON (Binary JSON) format, allowing for flexibility in schema and nested structures.\n",
    "Dynamic Schema: No rigid schema requirements, making it easy to adapt to changing data requirements.\n",
    "High Availability: Supports replica sets for data redundancy and fault tolerance.\n",
    "Horizontal Scalability: Sharding enables distributing data across multiple servers for increased performance and capacity.\n",
    "Indexing: Provides efficient indexing for faster queries and data retrieval.\n",
    "Aggregation Framework: Allows advanced data processing and analysis using a pipeline of stages.\n",
    "Geospatial Indexes: Supports geospatial queries and data associated with location information.\n",
    "Ad hoc Queries: Supports complex queries with a rich query language.\n",
    "Auto-Sharding: Automatically distributes data across shards as the data grows.\n",
    "Capped Collections: Collections with a fixed size to maintain fixed-length data logs.\n",
    "Atomic Operations: Supports atomic operations within a single document.\n",
    "Encryption: Supports data-at-rest encryption and secure communication over the network."
   ]
  },
  {
   "cell_type": "markdown",
   "metadata": {},
   "source": [
    "# Q3. Write a code to connect MongoDB to Python. Also, create a database and a collection in MongoDB."
   ]
  },
  {
   "cell_type": "code",
   "execution_count": 16,
   "metadata": {},
   "outputs": [],
   "source": [
    "import pymongo\n",
    "\n",
    "# Replace this with your MongoDB connection string\n",
    "connection_string = \"mongodb+srv://abhishekdhapola100:<passwordchanged>@cluster0.d0zib7r.mongodb.net/?retryWrites=true&w=majority\"\n",
    "client = pymongo.MongoClient(connection_string)\n",
    "\n",
    "# Access a database and collection\n",
    "mydb = client[\"mydatabase\"]\n",
    "mycollection = mydb[\"mycollection\"]\n",
    "\n",
    "\n"
   ]
  },
  {
   "cell_type": "markdown",
   "metadata": {},
   "source": [
    "# Q4. Using the database and the collection created in question number 3, write a code to insert one record,and insert many records. Use the find() and find_one() methods to print the inserted record."
   ]
  },
  {
   "cell_type": "code",
   "execution_count": 17,
   "metadata": {},
   "outputs": [
    {
     "name": "stdout",
     "output_type": "stream",
     "text": [
      "Inserted ID: 64d33220ed1d1ed458352e3d\n",
      "Inserted IDs: [ObjectId('64d33221ed1d1ed458352e3e'), ObjectId('64d33221ed1d1ed458352e3f')]\n"
     ]
    }
   ],
   "source": [
    "record = {\"name\": \"John\", \"age\": 30, \"city\": \"New York\"}\n",
    "inserted_one = mycollection.insert_one(record)\n",
    "print(\"Inserted ID:\", inserted_one.inserted_id)\n",
    "\n",
    "records = [\n",
    "    {\"name\": \"Alice\", \"age\": 25, \"city\": \"London\"},\n",
    "    {\"name\": \"Bob\", \"age\": 28, \"city\": \"San Francisco\"}\n",
    "]\n",
    "inserted_many = mycollection.insert_many(records)\n",
    "print(\"Inserted IDs:\", inserted_many.inserted_ids)\n"
   ]
  },
  {
   "cell_type": "code",
   "execution_count": 18,
   "metadata": {},
   "outputs": [
    {
     "name": "stdout",
     "output_type": "stream",
     "text": [
      "One Record: {'_id': ObjectId('64d33221ed1d1ed458352e3e'), 'name': 'Alice', 'age': 25, 'city': 'London'}\n",
      "{'_id': ObjectId('64d33220ed1d1ed458352e3d'), 'name': 'John', 'age': 30, 'city': 'New York'}\n",
      "{'_id': ObjectId('64d33221ed1d1ed458352e3e'), 'name': 'Alice', 'age': 25, 'city': 'London'}\n",
      "{'_id': ObjectId('64d33221ed1d1ed458352e3f'), 'name': 'Bob', 'age': 28, 'city': 'San Francisco'}\n"
     ]
    }
   ],
   "source": [
    "# Find and print one record\n",
    "one_record = mycollection.find_one({\"name\": \"Alice\"})\n",
    "print(\"One Record:\", one_record)\n",
    "\n",
    "# Find and print all records\n",
    "all_records = mycollection.find()\n",
    "for record in all_records:\n",
    "    print(record)\n"
   ]
  },
  {
   "cell_type": "markdown",
   "metadata": {},
   "source": [
    "# Q5. Explain how you can use the find() method to query the MongoDB database. Write a simple code todemonstrate this."
   ]
  },
  {
   "cell_type": "code",
   "execution_count": 19,
   "metadata": {},
   "outputs": [
    {
     "name": "stdout",
     "output_type": "stream",
     "text": [
      "{'_id': ObjectId('64d33220ed1d1ed458352e3d'), 'name': 'John', 'age': 30, 'city': 'New York'}\n",
      "{'_id': ObjectId('64d33221ed1d1ed458352e3f'), 'name': 'Bob', 'age': 28, 'city': 'San Francisco'}\n"
     ]
    }
   ],
   "source": [
    "# Find documents with age greater than 25\n",
    "results = mycollection.find({\"age\": {\"$gt\": 25}})\n",
    "for result in results:\n",
    "    print(result)\n"
   ]
  },
  {
   "cell_type": "markdown",
   "metadata": {},
   "source": [
    "# Q6. Explain the sort() method. Give an example to demonstrate sorting in MongoDB."
   ]
  },
  {
   "cell_type": "code",
   "execution_count": 20,
   "metadata": {},
   "outputs": [
    {
     "name": "stdout",
     "output_type": "stream",
     "text": [
      "{'_id': ObjectId('64d33220ed1d1ed458352e3d'), 'name': 'John', 'age': 30, 'city': 'New York'}\n",
      "{'_id': ObjectId('64d33221ed1d1ed458352e3f'), 'name': 'Bob', 'age': 28, 'city': 'San Francisco'}\n",
      "{'_id': ObjectId('64d33221ed1d1ed458352e3e'), 'name': 'Alice', 'age': 25, 'city': 'London'}\n"
     ]
    }
   ],
   "source": [
    "# Find and sort documents by age in descending order\n",
    "sorted_results = mycollection.find().sort(\"age\", pymongo.DESCENDING)\n",
    "for result in sorted_results:\n",
    "    print(result)\n"
   ]
  },
  {
   "cell_type": "markdown",
   "metadata": {},
   "source": [
    "# Q7. Explain why delete_one(), delete_many(), and drop() is used."
   ]
  },
  {
   "cell_type": "markdown",
   "metadata": {},
   "source": [
    "delete_one(filter): This method is used to delete a single document that matches the specified filter. If multiple documents match, only the first one encountered will be deleted.\n",
    "\n",
    "delete_many(filter): This method is used to delete all documents that match the specified filter.\n",
    "\n",
    "drop(): This method is used to drop the entire collection, effectively deleting all documents within it. The collection will be removed from the database.\n",
    "\n",
    "These methods are used to manage data within MongoDB collections, allowing you to delete specific documents or entire collections based on your requirements. They are particularly useful when you need to remove data that is no longer needed or to perform maintenance tasks."
   ]
  },
  {
   "cell_type": "code",
   "execution_count": null,
   "metadata": {},
   "outputs": [],
   "source": []
  }
 ],
 "metadata": {
  "kernelspec": {
   "display_name": "Python 3",
   "language": "python",
   "name": "python3"
  },
  "language_info": {
   "codemirror_mode": {
    "name": "ipython",
    "version": 3
   },
   "file_extension": ".py",
   "mimetype": "text/x-python",
   "name": "python",
   "nbconvert_exporter": "python",
   "pygments_lexer": "ipython3",
   "version": "3.8.5"
  }
 },
 "nbformat": 4,
 "nbformat_minor": 4
}
