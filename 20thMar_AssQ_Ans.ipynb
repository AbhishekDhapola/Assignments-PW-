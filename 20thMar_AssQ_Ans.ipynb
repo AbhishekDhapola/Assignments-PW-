{
 "cells": [
  {
   "cell_type": "markdown",
   "metadata": {},
   "source": [
    "# Q1. What is data encoding? How is it useful in data science?"
   ]
  },
  {
   "cell_type": "markdown",
   "metadata": {},
   "source": [
    "Data encoding is the process of converting data from one format to another. In the context of data science, it often refers to converting categorical data (data that represents labels or categories) into a numerical format that can be easily understood by machine learning algorithms. This is important because many machine learning algorithms work with numerical data and might not directly handle categorical data. Data encoding helps in preparing the data for analysis, modeling, and prediction tasks."
   ]
  },
  {
   "cell_type": "markdown",
   "metadata": {},
   "source": [
    "# Q2. What is nominal encoding? Provide an example of how you would use it in a real-world scenario."
   ]
  },
  {
   "cell_type": "markdown",
   "metadata": {},
   "source": [
    "Nominal encoding, also known as label encoding, involves assigning a unique numerical label to each category in a categorical variable. For example, if you have a \"Color\" column with categories like \"Red,\" \"Blue,\" and \"Green,\" you would assign numerical labels like 1, 2, and 3 to these categories.\n",
    "\n",
    "Real-world scenario example: Let's say you're analyzing a survey about car preferences. One of the columns is \"Car Brand\" with categories \"Toyota,\" \"Ford,\" and \"Honda.\" You can use nominal encoding to convert these categories into numerical labels: \"Toyota\" - 1, \"Ford\" - 2, \"Honda\" - 3."
   ]
  },
  {
   "cell_type": "markdown",
   "metadata": {},
   "source": [
    "# Q3. In what situations is nominal encoding preferred over one-hot encoding? Provide a practical example."
   ]
  },
  {
   "cell_type": "markdown",
   "metadata": {},
   "source": [
    "Nominal encoding is preferred when the categorical variable has an inherent ordinal relationship or when the variable has a large number of categories. For example, if you have a \"Education Level\" column with categories \"High School,\" \"Bachelor's,\" \"Master's,\" and \"PhD,\" there's a clear ordinal relationship, and nominal encoding might be suitable. Additionally, if you have a categorical variable with many levels (e.g., postal codes), using one-hot encoding could lead to a high-dimensional dataset.\n",
    "\n",
    "Practical example: Consider a dataset of movie ratings where the \"Rating\" column has categories \"Good,\" \"Average,\" and \"Poor.\" These categories have an implied order, and nominal encoding could be used."
   ]
  },
  {
   "cell_type": "markdown",
   "metadata": {},
   "source": [
    "# Q4. Suppose you have a dataset containing categorical data with 5 unique values. Which encoding technique would you use to transform this data into a format suitable for machine learning algorithms? Explain why you made this choice."
   ]
  },
  {
   "cell_type": "markdown",
   "metadata": {},
   "source": [
    "For a categorical variable with 5 unique values, you could use nominal (label) encoding. Since there are a limited number of categories, label encoding would assign each category a unique numerical label, which wouldn't introduce high dimensionality."
   ]
  },
  {
   "cell_type": "markdown",
   "metadata": {},
   "source": [
    "# Q5. In a machine learning project, you have a dataset with 1000 rows and 5 columns. Two of the columns are categorical, and the remaining three columns are numerical. If you were to use nominal encoding to transform the categorical data, how many new columns would be created? Show your calculations."
   ]
  },
  {
   "cell_type": "markdown",
   "metadata": {},
   "source": [
    "If you use nominal encoding on categorical variables, you would replace each categorical column with a single numerical column. Therefore, for two categorical columns, you would create two new columns. So, using nominal encoding in this scenario would result in 2 new columns."
   ]
  },
  {
   "cell_type": "markdown",
   "metadata": {},
   "source": [
    "# Q6. You are working with a dataset containing information about different types of animals, including their species, habitat, and diet. Which encoding technique would you use to transform the categorical data into a format suitable for machine learning algorithms? Justify your answer."
   ]
  },
  {
   "cell_type": "markdown",
   "metadata": {},
   "source": [
    "In this case, you should use one-hot encoding. One-hot encoding is suitable when the categorical variables are not ordinal and do not have any inherent numerical relationship. Each unique category would be converted into a binary column, representing its presence or absence. Since \"species,\" \"habitat,\" and \"diet\" are likely not ordinal and have no inherent order, one-hot encoding is appropriate."
   ]
  },
  {
   "cell_type": "markdown",
   "metadata": {},
   "source": [
    "# Q7.You are working on a project that involves predicting customer churn for a telecommunications company. You have a dataset with 5 features, including the customer's gender, age, contract type, monthly charges, and tenure. Which encoding technique(s) would you use to transform the categorical data into numerical data? Provide a step-by-step explanation of how you would implement the encoding."
   ]
  },
  {
   "cell_type": "markdown",
   "metadata": {},
   "source": [
    "For this scenario, you can use one-hot encoding for the \"gender\" and \"contract type\" columns since these are likely nominal variables. Here's a step-by-step explanation:\n",
    "\n",
    "Gender Column:\n",
    "\n",
    "Original categories: \"Male,\" \"Female\"\n",
    "Apply one-hot encoding: Create two binary columns (\"Male\" and \"Female\"). If a customer is male, the \"Male\" column will have a value of 1 and the \"Female\" column will have a value of 0 (and vice versa).\n",
    "Contract Type Column:\n",
    "\n",
    "Original categories: \"Monthly,\" \"One-Year,\" \"Two-Year\"\n",
    "Apply one-hot encoding: Create three binary columns (\"Monthly,\" \"One-Year,\" \"Two-Year\"). Assign 1 to the column corresponding to the customer's contract type and 0 to the others.\n",
    "Age, Monthly Charges, Tenure Columns:\n",
    "\n",
    "These are numerical features and do not require encoding. They can be used as-is"
   ]
  },
  {
   "cell_type": "code",
   "execution_count": null,
   "metadata": {},
   "outputs": [],
   "source": []
  }
 ],
 "metadata": {
  "kernelspec": {
   "display_name": "Python 3",
   "language": "python",
   "name": "python3"
  },
  "language_info": {
   "codemirror_mode": {
    "name": "ipython",
    "version": 3
   },
   "file_extension": ".py",
   "mimetype": "text/x-python",
   "name": "python",
   "nbconvert_exporter": "python",
   "pygments_lexer": "ipython3",
   "version": "3.8.5"
  }
 },
 "nbformat": 4,
 "nbformat_minor": 4
}
