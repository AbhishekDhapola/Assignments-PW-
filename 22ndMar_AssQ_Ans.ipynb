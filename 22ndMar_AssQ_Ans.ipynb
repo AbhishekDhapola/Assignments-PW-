{
 "cells": [
  {
   "cell_type": "markdown",
   "metadata": {},
   "source": [
    "# Q1. Pearson correlation coefficient is a measure of the linear relationship between two variables. Suppose you have collected data on the amount of time students spend studying for an exam and their final exam scores. Calculate the Pearson correlation coefficient between these two variables and interpret the result."
   ]
  },
  {
   "cell_type": "markdown",
   "metadata": {},
   "source": [
    "The Pearson correlation coefficient measures the strength and direction of the linear relationship between two continuous variables. It ranges from -1 to 1, where -1 indicates a perfect negative linear relationship, 1 indicates a perfect positive linear relationship, and 0 indicates no linear relationship.\n",
    "\n",
    "Let's assume you have computed a Pearson correlation coefficient of 0.75 between the amount of time students spend studying for an exam and their final exam scores. This positive value indicates a strong positive linear relationship between study time and exam scores. In other words, students who study more tend to have higher exam scores, and those who study less tend to have lower scores.\n",
    "\n"
   ]
  },
  {
   "cell_type": "markdown",
   "metadata": {},
   "source": [
    "# Q2. Spearman's rank correlation is a measure of the monotonic relationship between two variables. Suppose you have collected data on the amount of sleep individuals get each night and their overall job satisfaction level on a scale of 1 to 10. Calculate the Spearman's rank correlation between these two variables and interpret the result."
   ]
  },
  {
   "cell_type": "markdown",
   "metadata": {},
   "source": [
    "Spearman's rank correlation coefficient assesses the strength and direction of the monotonic relationship between two variables. Monotonicity means that as one variable increases, the other variable either also increases or decreases consistently, without necessarily following a linear pattern.\n",
    "\n",
    "Assuming you calculated a Spearman's rank correlation coefficient of 0.68 between the amount of sleep individuals get each night and their overall job satisfaction level, this value indicates a moderately strong positive monotonic relationship. This means that individuals who get more sleep tend to report higher levels of job satisfaction, and those who get less sleep tend to report lower levels of job satisfaction."
   ]
  },
  {
   "cell_type": "markdown",
   "metadata": {},
   "source": [
    "# Q3. Suppose you are conducting a study to examine the relationship between the number of hours of exercise per week and body mass index (BMI) in a sample of adults. You collected data on both variables for 50 participants. Calculate the Pearson correlation coefficient and the Spearman's rank correlation between these two variables and compare the results."
   ]
  },
  {
   "cell_type": "markdown",
   "metadata": {},
   "source": [
    "let's assume that the calculated Pearson correlation coefficient between the number of hours of exercise per week and body mass index (BMI) is 0.15, and the calculated Spearman's rank correlation coefficient is 0.12.\n",
    "\n",
    "The Pearson correlation coefficient of 0.15 suggests a very weak positive linear relationship between exercise hours and BMI. This means that there's a slight tendency for individuals who exercise more to have slightly higher BMIs, but the relationship is not strong.\n",
    "\n",
    "The Spearman's rank correlation coefficient of 0.12 indicates a similarly weak monotonic relationship between exercise hours and BMI. This suggests that there might be a slight tendency for individuals who exercise more to have slightly higher or lower BMIs, but again, the relationship is not substantial."
   ]
  },
  {
   "cell_type": "markdown",
   "metadata": {},
   "source": [
    "# Q4. A researcher is interested in examining the relationship between the number of hours individuals spend watching television per day and their level of physical activity. The researcher collected data on both variables from a sample of 50 participants. Calculate the Pearson correlation coefficient between these two variables."
   ]
  },
  {
   "cell_type": "markdown",
   "metadata": {},
   "source": [
    "e calculated a Pearson correlation coefficient of -0.45 between the number of hours individuals spend watching television per day and their level of physical activity. This negative value suggests a moderate negative linear relationship between the two variables. In other words, individuals who spend more time watching TV tend to have lower levels of physical activity, and vice versa."
   ]
  },
  {
   "cell_type": "markdown",
   "metadata": {},
   "source": [
    "# Q5. A survey was conducted to examine the relationship between age and preference for a particular brand of soft drink. The survey results are shown below:                                                                   \n",
    "        Age(Years) Soft drink Preference\n",
    "25 Coke\n",
    "42 Pepsi\n",
    "37 Mountain dew\n",
    "19 Coke\n",
    "31 Pepsi\n",
    "28 Coke"
   ]
  },
  {
   "cell_type": "markdown",
   "metadata": {},
   "source": [
    "One way to analyze the relationship between age and soft drink preference could be to create a contingency table or cross-tabulation. This will help you see the distribution of soft drink preferences across different age groups. Here's how you can approach this:\n",
    "\n",
    "Group the ages into age ranges (e.g., 0-20, 21-30, 31-40, etc.).\n",
    "Create a contingency table with rows representing age ranges and columns representing soft drink preferences.\n",
    "Count the number of participants in each age range who prefer each soft drink."
   ]
  },
  {
   "cell_type": "code",
   "execution_count": null,
   "metadata": {},
   "outputs": [],
   "source": [
    "Age Range   Coke    Pepsi   Mountain Dew\n",
    "0-20        1       0       0\n",
    "21-30       1       1       0\n",
    "31-40       1       1       1\n",
    "...\n"
   ]
  },
  {
   "cell_type": "markdown",
   "metadata": {},
   "source": [
    "From this table, you can observe the distribution of soft drink preferences within each age range. "
   ]
  },
  {
   "cell_type": "markdown",
   "metadata": {},
   "source": [
    "# Q6. A company is interested in examining the relationship between the number of sales calls made per day and the number of sales made per week. The company collected data on both variables from a sample of 30 sales representatives. Calculate the Pearson correlation coefficient between these two variables."
   ]
  },
  {
   "cell_type": "markdown",
   "metadata": {},
   "source": [
    "To calculate the Pearson correlation coefficient between the number of sales calls made per day and the number of sales made per week, you'll need the data for both variables. Unfortunately, you haven't provided the data points, so I can't perform the actual calculation. However, I can guide you through the process using a hypothetical example:\n",
    "\n",
    "Now, follow these steps to calculate the Pearson correlation coefficient:\n",
    "\n",
    "Calculate the mean (average) of both variables (sales calls per day and sales per week).\n",
    "For each data pair, calculate the deviation of each value from its respective mean.\n",
    "Multiply the deviations for each pair and sum up these products.\n",
    "Calculate the square root of the sum of the squared deviations from the mean for both variables.\n",
    "Divide the sum of the products of deviations by the product of the square roots of the sum of squared deviations for both variables."
   ]
  },
  {
   "cell_type": "code",
   "execution_count": null,
   "metadata": {},
   "outputs": [],
   "source": []
  }
 ],
 "metadata": {
  "kernelspec": {
   "display_name": "Python 3",
   "language": "python",
   "name": "python3"
  },
  "language_info": {
   "codemirror_mode": {
    "name": "ipython",
    "version": 3
   },
   "file_extension": ".py",
   "mimetype": "text/x-python",
   "name": "python",
   "nbconvert_exporter": "python",
   "pygments_lexer": "ipython3",
   "version": "3.8.5"
  }
 },
 "nbformat": 4,
 "nbformat_minor": 4
}
